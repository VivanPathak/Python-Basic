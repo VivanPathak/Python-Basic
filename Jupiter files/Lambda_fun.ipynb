{
 "cells": [
  {
   "cell_type": "code",
   "execution_count": 2,
   "id": "414fba10",
   "metadata": {},
   "outputs": [],
   "source": [
    "def Sum(a,b):\n",
    "    return a+b"
   ]
  },
  {
   "cell_type": "code",
   "execution_count": 3,
   "id": "be227ba8",
   "metadata": {},
   "outputs": [
    {
     "data": {
      "text/plain": [
       "35"
      ]
     },
     "execution_count": 3,
     "metadata": {},
     "output_type": "execute_result"
    }
   ],
   "source": [
    "Sum(10,25)"
   ]
  },
  {
   "cell_type": "code",
   "execution_count": 4,
   "id": "c398dd11",
   "metadata": {},
   "outputs": [],
   "source": [
    "Sum_1 = lambda a,b : a+b"
   ]
  },
  {
   "cell_type": "code",
   "execution_count": 5,
   "id": "8cec2c25",
   "metadata": {},
   "outputs": [
    {
     "data": {
      "text/plain": [
       "35"
      ]
     },
     "execution_count": 5,
     "metadata": {},
     "output_type": "execute_result"
    }
   ],
   "source": [
    "Sum_1(10,25)"
   ]
  },
  {
   "cell_type": "code",
   "execution_count": 9,
   "id": "b7b41dba",
   "metadata": {},
   "outputs": [],
   "source": [
    "def reverse(S):\n",
    "    return S[::-1]"
   ]
  },
  {
   "cell_type": "code",
   "execution_count": 10,
   "id": "1d318fe1",
   "metadata": {},
   "outputs": [
    {
     "data": {
      "text/plain": [
       "' kahtap naviv'"
      ]
     },
     "execution_count": 10,
     "metadata": {},
     "output_type": "execute_result"
    }
   ],
   "source": [
    "reverse(\"vivan pathak \")"
   ]
  },
  {
   "cell_type": "code",
   "execution_count": 11,
   "id": "8b9deba5",
   "metadata": {},
   "outputs": [],
   "source": [
    "Reverse_1 = lambda s : s[::-1]"
   ]
  },
  {
   "cell_type": "code",
   "execution_count": 12,
   "id": "1a70be10",
   "metadata": {},
   "outputs": [
    {
     "data": {
      "text/plain": [
       "'kahtap naviv'"
      ]
     },
     "execution_count": 12,
     "metadata": {},
     "output_type": "execute_result"
    }
   ],
   "source": [
    "Reverse_1(\"vivan pathak\")"
   ]
  },
  {
   "cell_type": "code",
   "execution_count": null,
   "id": "64645353",
   "metadata": {},
   "outputs": [],
   "source": []
  }
 ],
 "metadata": {
  "kernelspec": {
   "display_name": "Python 3 (ipykernel)",
   "language": "python",
   "name": "python3"
  },
  "language_info": {
   "codemirror_mode": {
    "name": "ipython",
    "version": 3
   },
   "file_extension": ".py",
   "mimetype": "text/x-python",
   "name": "python",
   "nbconvert_exporter": "python",
   "pygments_lexer": "ipython3",
   "version": "3.9.7"
  }
 },
 "nbformat": 4,
 "nbformat_minor": 5
}
