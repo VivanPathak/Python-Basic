{
 "cells": [
  {
   "cell_type": "code",
   "execution_count": 1,
   "id": "7b4b46e2",
   "metadata": {},
   "outputs": [
    {
     "name": "stdout",
     "output_type": "stream",
     "text": [
      "Enter your name here Vivan\n",
      "Enter your surname here Pathak\n",
      "Enter your address here E-101/1 Shivaji Nagar, Bhopal , Madhya Pradesh, India\n",
      "Enter your proffesion Student\n"
     ]
    }
   ],
   "source": [
    "Name = input(\"Enter your name here \")\n",
    "Surname = input(\"Enter your surname here \")\n",
    "Age = (\"Enter your age here \")\n",
    "Address = input(\"Enter your address here \")\n",
    "Proffesion = input(\"Enter your proffesion \")"
   ]
  },
  {
   "cell_type": "code",
   "execution_count": null,
   "id": "a1bb26fe",
   "metadata": {},
   "outputs": [],
   "source": []
  }
 ],
 "metadata": {
  "kernelspec": {
   "display_name": "Python 3 (ipykernel)",
   "language": "python",
   "name": "python3"
  },
  "language_info": {
   "codemirror_mode": {
    "name": "ipython",
    "version": 3
   },
   "file_extension": ".py",
   "mimetype": "text/x-python",
   "name": "python",
   "nbconvert_exporter": "python",
   "pygments_lexer": "ipython3",
   "version": "3.9.7"
  }
 },
 "nbformat": 4,
 "nbformat_minor": 5
}
