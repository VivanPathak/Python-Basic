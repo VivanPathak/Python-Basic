{
 "cells": [
  {
   "cell_type": "code",
   "execution_count": 1,
   "id": "a2cbd7dc",
   "metadata": {},
   "outputs": [],
   "source": [
    "A = 1234567890"
   ]
  },
  {
   "cell_type": "code",
   "execution_count": 4,
   "id": "2baf59a7",
   "metadata": {},
   "outputs": [],
   "source": [
    " String = str(A)"
   ]
  },
  {
   "cell_type": "code",
   "execution_count": 5,
   "id": "d2d32cc9",
   "metadata": {},
   "outputs": [
    {
     "data": {
      "text/plain": [
       "'1234567890'"
      ]
     },
     "execution_count": 5,
     "metadata": {},
     "output_type": "execute_result"
    }
   ],
   "source": [
    "String"
   ]
  },
  {
   "cell_type": "code",
   "execution_count": 6,
   "id": "abad3d84",
   "metadata": {},
   "outputs": [
    {
     "data": {
      "text/plain": [
       "str"
      ]
     },
     "execution_count": 6,
     "metadata": {},
     "output_type": "execute_result"
    }
   ],
   "source": [
    "type(String)"
   ]
  },
  {
   "cell_type": "code",
   "execution_count": 7,
   "id": "3f8fac60",
   "metadata": {},
   "outputs": [],
   "source": [
    "B =  20.9"
   ]
  },
  {
   "cell_type": "code",
   "execution_count": 8,
   "id": "bb08ad5d",
   "metadata": {},
   "outputs": [
    {
     "data": {
      "text/plain": [
       "20"
      ]
     },
     "execution_count": 8,
     "metadata": {},
     "output_type": "execute_result"
    }
   ],
   "source": [
    "int(B)"
   ]
  },
  {
   "cell_type": "code",
   "execution_count": 9,
   "id": "b16cf955",
   "metadata": {},
   "outputs": [],
   "source": [
    "C = \"I am London\""
   ]
  },
  {
   "cell_type": "code",
   "execution_count": 10,
   "id": "ada68667",
   "metadata": {},
   "outputs": [
    {
     "ename": "ValueError",
     "evalue": "invalid literal for int() with base 10: 'I am London'",
     "output_type": "error",
     "traceback": [
      "\u001b[1;31m---------------------------------------------------------------------------\u001b[0m",
      "\u001b[1;31mValueError\u001b[0m                                Traceback (most recent call last)",
      "\u001b[1;32m~\\AppData\\Local\\Temp/ipykernel_7712/121314115.py\u001b[0m in \u001b[0;36m<module>\u001b[1;34m\u001b[0m\n\u001b[1;32m----> 1\u001b[1;33m \u001b[0mint\u001b[0m\u001b[1;33m(\u001b[0m\u001b[0mC\u001b[0m\u001b[1;33m)\u001b[0m\u001b[1;33m\u001b[0m\u001b[1;33m\u001b[0m\u001b[0m\n\u001b[0m",
      "\u001b[1;31mValueError\u001b[0m: invalid literal for int() with base 10: 'I am London'"
     ]
    }
   ],
   "source": [
    "int(C)"
   ]
  },
  {
   "cell_type": "code",
   "execution_count": 11,
   "id": "25c91c2f",
   "metadata": {},
   "outputs": [],
   "source": [
    "D = 20"
   ]
  },
  {
   "cell_type": "code",
   "execution_count": 12,
   "id": "3e25cf06",
   "metadata": {},
   "outputs": [
    {
     "data": {
      "text/plain": [
       "20.0"
      ]
     },
     "execution_count": 12,
     "metadata": {},
     "output_type": "execute_result"
    }
   ],
   "source": [
    "float(D)"
   ]
  },
  {
   "cell_type": "code",
   "execution_count": null,
   "id": "6bc376aa",
   "metadata": {},
   "outputs": [],
   "source": []
  }
 ],
 "metadata": {
  "kernelspec": {
   "display_name": "Python 3 (ipykernel)",
   "language": "python",
   "name": "python3"
  },
  "language_info": {
   "codemirror_mode": {
    "name": "ipython",
    "version": 3
   },
   "file_extension": ".py",
   "mimetype": "text/x-python",
   "name": "python",
   "nbconvert_exporter": "python",
   "pygments_lexer": "ipython3",
   "version": "3.9.7"
  }
 },
 "nbformat": 4,
 "nbformat_minor": 5
}
