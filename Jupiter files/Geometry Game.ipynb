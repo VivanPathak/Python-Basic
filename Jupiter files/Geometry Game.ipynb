{
 "cells": [
  {
   "cell_type": "code",
   "execution_count": 1,
   "id": "ad6675d8",
   "metadata": {},
   "outputs": [],
   "source": [
    "class GeometryGame():\n",
    "    \n",
    "    def __init__(self,X,Y):\n",
    "        self.X = X\n",
    "        self.Y = Y\n",
    "        \n",
    "    def Fall_In_Rectangle(self,Lower_Left, Upper_Right):\n",
    "        if Lower_Left[0] > self.X > Upper_Right[0] and Lower_Left[1] > self.Y > Upper_Right[1]:\n",
    "        \n",
    "            return True\n",
    "        else:\n",
    "            return False"
   ]
  },
  {
   "cell_type": "code",
   "execution_count": 2,
   "id": "c772e0d9",
   "metadata": {},
   "outputs": [],
   "source": [
    "Trial_1 = GeometryGame(2,3)"
   ]
  },
  {
   "cell_type": "code",
   "execution_count": 5,
   "id": "6d2969b9",
   "metadata": {},
   "outputs": [
    {
     "data": {
      "text/plain": [
       "False"
      ]
     },
     "execution_count": 5,
     "metadata": {},
     "output_type": "execute_result"
    }
   ],
   "source": [
    "Trial_1.Fall_In_Rectangle((1,2),(5,4))"
   ]
  },
  {
   "cell_type": "code",
   "execution_count": null,
   "id": "85f5dd18",
   "metadata": {},
   "outputs": [],
   "source": []
  },
  {
   "cell_type": "code",
   "execution_count": null,
   "id": "e0438c3f",
   "metadata": {},
   "outputs": [],
   "source": []
  }
 ],
 "metadata": {
  "kernelspec": {
   "display_name": "Python 3 (ipykernel)",
   "language": "python",
   "name": "python3"
  },
  "language_info": {
   "codemirror_mode": {
    "name": "ipython",
    "version": 3
   },
   "file_extension": ".py",
   "mimetype": "text/x-python",
   "name": "python",
   "nbconvert_exporter": "python",
   "pygments_lexer": "ipython3",
   "version": "3.9.7"
  }
 },
 "nbformat": 4,
 "nbformat_minor": 5
}
