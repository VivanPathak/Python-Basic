{
 "cells": [
  {
   "cell_type": "code",
   "execution_count": 1,
   "id": "b332b0d7",
   "metadata": {},
   "outputs": [],
   "source": [
    "A = 'Python'"
   ]
  },
  {
   "cell_type": "code",
   "execution_count": 2,
   "id": "b5e96ac3",
   "metadata": {},
   "outputs": [],
   "source": [
    "B = \"Python\""
   ]
  },
  {
   "cell_type": "code",
   "execution_count": 3,
   "id": "037f0cc3",
   "metadata": {},
   "outputs": [
    {
     "ename": "SyntaxError",
     "evalue": "EOL while scanning string literal (Temp/ipykernel_7012/1901687870.py, line 1)",
     "output_type": "error",
     "traceback": [
      "\u001b[1;36m  File \u001b[1;32m\"C:\\Users\\lenovo\\AppData\\Local\\Temp/ipykernel_7012/1901687870.py\"\u001b[1;36m, line \u001b[1;32m1\u001b[0m\n\u001b[1;33m    C = \"Python'\u001b[0m\n\u001b[1;37m                ^\u001b[0m\n\u001b[1;31mSyntaxError\u001b[0m\u001b[1;31m:\u001b[0m EOL while scanning string literal\n"
     ]
    }
   ],
   "source": [
    "C = \"Python'"
   ]
  },
  {
   "cell_type": "code",
   "execution_count": 4,
   "id": "5723e62f",
   "metadata": {},
   "outputs": [],
   "source": [
    "String = \"London\""
   ]
  },
  {
   "cell_type": "code",
   "execution_count": 5,
   "id": "c4842c44",
   "metadata": {},
   "outputs": [
    {
     "data": {
      "text/plain": [
       "'L'"
      ]
     },
     "execution_count": 5,
     "metadata": {},
     "output_type": "execute_result"
    }
   ],
   "source": [
    "String[0]"
   ]
  },
  {
   "cell_type": "code",
   "execution_count": 6,
   "id": "fd958acf",
   "metadata": {},
   "outputs": [
    {
     "data": {
      "text/plain": [
       "'d'"
      ]
     },
     "execution_count": 6,
     "metadata": {},
     "output_type": "execute_result"
    }
   ],
   "source": [
    "String[3]"
   ]
  },
  {
   "cell_type": "code",
   "execution_count": 1,
   "id": "4c622ca2",
   "metadata": {},
   "outputs": [],
   "source": [
    "String = \"London Is A Beautiful City\""
   ]
  },
  {
   "cell_type": "code",
   "execution_count": 2,
   "id": "59f88ae3",
   "metadata": {},
   "outputs": [
    {
     "data": {
      "text/plain": [
       "'a'"
      ]
     },
     "execution_count": 2,
     "metadata": {},
     "output_type": "execute_result"
    }
   ],
   "source": [
    "String[-12]"
   ]
  },
  {
   "cell_type": "code",
   "execution_count": 3,
   "id": "688949b9",
   "metadata": {},
   "outputs": [
    {
     "data": {
      "text/plain": [
       "'n Is A '"
      ]
     },
     "execution_count": 3,
     "metadata": {},
     "output_type": "execute_result"
    }
   ],
   "source": [
    "String[5:12]"
   ]
  },
  {
   "cell_type": "code",
   "execution_count": 4,
   "id": "65177644",
   "metadata": {},
   "outputs": [
    {
     "data": {
      "text/plain": [
       "36"
      ]
     },
     "execution_count": 4,
     "metadata": {},
     "output_type": "execute_result"
    }
   ],
   "source": [
    "len(\"Bhopal Is the Youngest City In World\")"
   ]
  },
  {
   "cell_type": "code",
   "execution_count": 6,
   "id": "1ce0c1be",
   "metadata": {},
   "outputs": [
    {
     "data": {
      "text/plain": [
       "7"
      ]
     },
     "execution_count": 6,
     "metadata": {},
     "output_type": "execute_result"
    }
   ],
   "source": [
    "len(\"england\")"
   ]
  },
  {
   "cell_type": "code",
   "execution_count": 8,
   "id": "a83c16bc",
   "metadata": {},
   "outputs": [
    {
     "data": {
      "text/plain": [
       "'ME Is Having Fun'"
      ]
     },
     "execution_count": 8,
     "metadata": {},
     "output_type": "execute_result"
    }
   ],
   "source": [
    "\"     ME Is Having Fun   \".strip()"
   ]
  },
  {
   "cell_type": "code",
   "execution_count": 13,
   "id": "91822340",
   "metadata": {},
   "outputs": [
    {
     "data": {
      "text/plain": [
       "'IS THE COUNTRY INdia'"
      ]
     },
     "execution_count": 13,
     "metadata": {},
     "output_type": "execute_result"
    }
   ],
   "source": [
    "\">>>>>>>IS THE COUNTRY INdia\".strip(\">\")"
   ]
  },
  {
   "cell_type": "code",
   "execution_count": 14,
   "id": "312c92f9",
   "metadata": {},
   "outputs": [
    {
     "data": {
      "text/plain": [
       "'i am vivan pathak'"
      ]
     },
     "execution_count": 14,
     "metadata": {},
     "output_type": "execute_result"
    }
   ],
   "source": [
    "\"I AM VIVAN PATHAK\".lower()"
   ]
  },
  {
   "cell_type": "code",
   "execution_count": 15,
   "id": "88f6724b",
   "metadata": {},
   "outputs": [
    {
     "data": {
      "text/plain": [
       "'me and my friends are playing'"
      ]
     },
     "execution_count": 15,
     "metadata": {},
     "output_type": "execute_result"
    }
   ],
   "source": [
    "\"ME AND MY FRIENDS ARE PLAYING\".lower()"
   ]
  },
  {
   "cell_type": "code",
   "execution_count": 17,
   "id": "e808f9da",
   "metadata": {},
   "outputs": [
    {
     "data": {
      "text/plain": [
       "'ME AND MY FRIENDS ARE PLAYING'"
      ]
     },
     "execution_count": 17,
     "metadata": {},
     "output_type": "execute_result"
    }
   ],
   "source": [
    "\"me and my friends are playing\".upper()"
   ]
  },
  {
   "cell_type": "code",
   "execution_count": null,
   "id": "67a69be7",
   "metadata": {},
   "outputs": [],
   "source": [
    "\"India is So bea\""
   ]
  }
 ],
 "metadata": {
  "kernelspec": {
   "display_name": "Python 3 (ipykernel)",
   "language": "python",
   "name": "python3"
  },
  "language_info": {
   "codemirror_mode": {
    "name": "ipython",
    "version": 3
   },
   "file_extension": ".py",
   "mimetype": "text/x-python",
   "name": "python",
   "nbconvert_exporter": "python",
   "pygments_lexer": "ipython3",
   "version": "3.9.7"
  }
 },
 "nbformat": 4,
 "nbformat_minor": 5
}
