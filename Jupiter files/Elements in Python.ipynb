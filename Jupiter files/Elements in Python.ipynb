{
 "cells": [
  {
   "cell_type": "code",
   "execution_count": 1,
   "id": "58dd7a25",
   "metadata": {},
   "outputs": [
    {
     "data": {
      "text/plain": [
       "25"
      ]
     },
     "execution_count": 1,
     "metadata": {},
     "output_type": "execute_result"
    }
   ],
   "source": [
    "#This File Contains Every Elements in The python \n",
    "\n",
    "a = 4\n",
    "b = 5\n",
    "c =[6,7]\n",
    "\n",
    "d =\"HI\"\n",
    "\"Hello\"\n",
    "\n",
    "def Area_Of_Square(L):\n",
    "    return L**2\n",
    "\n",
    "Area_Of_Square(5)"
   ]
  },
  {
   "cell_type": "code",
   "execution_count": 2,
   "id": "05c08927",
   "metadata": {},
   "outputs": [],
   "source": [
    "#Elements in Python\n",
    "#Objects\n",
    "#Identifiers\n",
    "#Operators\n",
    "#Delimiters\n",
    "#Key_Words\n",
    "#Comments\n",
    "#Blank_Space\n",
    "#White_Space\n",
    "#Identation"
   ]
  },
  {
   "cell_type": "code",
   "execution_count": null,
   "id": "bb34d487",
   "metadata": {},
   "outputs": [],
   "source": [
    "#Here 4,5,[6,7],6,7,\"HI\",\"Hello\",Function Defination 2,5,25 are Objects\n",
    "#Here a,b,c,d,Area_Of_Square,l are Identifiers/Variable\n",
    "#Here ** are Operators\n",
    "#Here = , [] () : ARE Delimiters\n",
    "#Key_Words are def and return \n",
    "#here this file contains every element in the python is a comment"
   ]
  }
 ],
 "metadata": {
  "kernelspec": {
   "display_name": "Python 3 (ipykernel)",
   "language": "python",
   "name": "python3"
  },
  "language_info": {
   "codemirror_mode": {
    "name": "ipython",
    "version": 3
   },
   "file_extension": ".py",
   "mimetype": "text/x-python",
   "name": "python",
   "nbconvert_exporter": "python",
   "pygments_lexer": "ipython3",
   "version": "3.9.7"
  }
 },
 "nbformat": 4,
 "nbformat_minor": 5
}
