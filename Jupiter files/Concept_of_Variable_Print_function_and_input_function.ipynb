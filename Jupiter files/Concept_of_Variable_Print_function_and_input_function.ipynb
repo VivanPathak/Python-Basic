{
 "cells": [
  {
   "cell_type": "code",
   "execution_count": 5,
   "id": "a727edbc",
   "metadata": {},
   "outputs": [],
   "source": [
    "Name= \"Ajay\""
   ]
  },
  {
   "cell_type": "code",
   "execution_count": 6,
   "id": "9a02f0a5",
   "metadata": {},
   "outputs": [],
   "source": [
    "Surname = 'Kumar'"
   ]
  },
  {
   "cell_type": "code",
   "execution_count": 7,
   "id": "e36a28a5",
   "metadata": {},
   "outputs": [],
   "source": [
    "Age = 23"
   ]
  },
  {
   "cell_type": "code",
   "execution_count": 8,
   "id": "fbb1de47",
   "metadata": {},
   "outputs": [],
   "source": [
    "Rank = '1st'"
   ]
  },
  {
   "cell_type": "code",
   "execution_count": 9,
   "id": "da623bb2",
   "metadata": {},
   "outputs": [],
   "source": [
    "City = 'Bhopal'"
   ]
  },
  {
   "cell_type": "code",
   "execution_count": 11,
   "id": "182229a3",
   "metadata": {},
   "outputs": [
    {
     "data": {
      "text/plain": [
       "str"
      ]
     },
     "execution_count": 11,
     "metadata": {},
     "output_type": "execute_result"
    }
   ],
   "source": [
    "type(Name)"
   ]
  },
  {
   "cell_type": "code",
   "execution_count": 12,
   "id": "0c512443",
   "metadata": {},
   "outputs": [
    {
     "data": {
      "text/plain": [
       "str"
      ]
     },
     "execution_count": 12,
     "metadata": {},
     "output_type": "execute_result"
    }
   ],
   "source": [
    "type(Surname)"
   ]
  },
  {
   "cell_type": "code",
   "execution_count": 13,
   "id": "c3be613e",
   "metadata": {},
   "outputs": [
    {
     "data": {
      "text/plain": [
       "int"
      ]
     },
     "execution_count": 13,
     "metadata": {},
     "output_type": "execute_result"
    }
   ],
   "source": [
    "type(Age)"
   ]
  },
  {
   "cell_type": "code",
   "execution_count": 15,
   "id": "371851aa",
   "metadata": {},
   "outputs": [
    {
     "name": "stdout",
     "output_type": "stream",
     "text": [
      "ABCDEFGHIJKL\n"
     ]
    }
   ],
   "source": [
    "print(\"ABCDEFGHIJKL\")"
   ]
  },
  {
   "cell_type": "code",
   "execution_count": 16,
   "id": "ccd95eb1",
   "metadata": {},
   "outputs": [
    {
     "name": "stdout",
     "output_type": "stream",
     "text": [
      "123445566\n"
     ]
    }
   ],
   "source": [
    "print(123445566)"
   ]
  },
  {
   "cell_type": "code",
   "execution_count": 17,
   "id": "410f59af",
   "metadata": {},
   "outputs": [
    {
     "name": "stdout",
     "output_type": "stream",
     "text": [
      "4100\n"
     ]
    }
   ],
   "source": [
    "print(2014+2086)"
   ]
  },
  {
   "cell_type": "code",
   "execution_count": 18,
   "id": "2af84296",
   "metadata": {},
   "outputs": [
    {
     "name": "stdout",
     "output_type": "stream",
     "text": [
      "VivanPathak\n"
     ]
    }
   ],
   "source": [
    "print(\"Vivan\"+\"Pathak\")"
   ]
  },
  {
   "cell_type": "code",
   "execution_count": 19,
   "id": "c0043564",
   "metadata": {},
   "outputs": [],
   "source": [
    "First_value = 10000000050"
   ]
  },
  {
   "cell_type": "code",
   "execution_count": 20,
   "id": "d1327d50",
   "metadata": {},
   "outputs": [],
   "source": [
    "Second_value= 10000000050"
   ]
  },
  {
   "cell_type": "code",
   "execution_count": 21,
   "id": "363b8bdb",
   "metadata": {},
   "outputs": [
    {
     "name": "stdout",
     "output_type": "stream",
     "text": [
      "20000000100\n"
     ]
    }
   ],
   "source": [
    "print(First_value + Second_value)"
   ]
  },
  {
   "cell_type": "code",
   "execution_count": 22,
   "id": "0e4710d8",
   "metadata": {},
   "outputs": [
    {
     "name": "stdout",
     "output_type": "stream",
     "text": [
      "123 john\n"
     ]
    },
    {
     "data": {
      "text/plain": [
       "'123 john'"
      ]
     },
     "execution_count": 22,
     "metadata": {},
     "output_type": "execute_result"
    }
   ],
   "source": [
    "input()"
   ]
  },
  {
   "cell_type": "code",
   "execution_count": 24,
   "id": "4ddfc44e",
   "metadata": {},
   "outputs": [
    {
     "name": "stdout",
     "output_type": "stream",
     "text": [
      "Pls enter you name and surname here Vivan Pathak \n"
     ]
    },
    {
     "data": {
      "text/plain": [
       "'Vivan Pathak '"
      ]
     },
     "execution_count": 24,
     "metadata": {},
     "output_type": "execute_result"
    }
   ],
   "source": [
    "input(\"Pls enter you name and surname here \")"
   ]
  },
  {
   "cell_type": "code",
   "execution_count": null,
   "id": "a747ab9f",
   "metadata": {},
   "outputs": [],
   "source": []
  }
 ],
 "metadata": {
  "kernelspec": {
   "display_name": "Python 3 (ipykernel)",
   "language": "python",
   "name": "python3"
  },
  "language_info": {
   "codemirror_mode": {
    "name": "ipython",
    "version": 3
   },
   "file_extension": ".py",
   "mimetype": "text/x-python",
   "name": "python",
   "nbconvert_exporter": "python",
   "pygments_lexer": "ipython3",
   "version": "3.9.7"
  }
 },
 "nbformat": 4,
 "nbformat_minor": 5
}
