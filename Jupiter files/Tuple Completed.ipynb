{
 "cells": [
  {
   "cell_type": "code",
   "execution_count": 23,
   "id": "ae7ae6aa",
   "metadata": {},
   "outputs": [],
   "source": [
    "Tuple_1 = 'apple','banana','orange','melon','mangoes'"
   ]
  },
  {
   "cell_type": "code",
   "execution_count": 24,
   "id": "cdfe113a",
   "metadata": {},
   "outputs": [
    {
     "data": {
      "text/plain": [
       "tuple"
      ]
     },
     "execution_count": 24,
     "metadata": {},
     "output_type": "execute_result"
    }
   ],
   "source": [
    "type(Tuple_1)"
   ]
  },
  {
   "cell_type": "code",
   "execution_count": 25,
   "id": "7d31f2ca",
   "metadata": {},
   "outputs": [],
   "source": [
    "Tuple_2 = (\"Vivan\",\"Pathak\",\"Is\",\"Smart\",)"
   ]
  },
  {
   "cell_type": "code",
   "execution_count": 26,
   "id": "92f71487",
   "metadata": {},
   "outputs": [
    {
     "data": {
      "text/plain": [
       "tuple"
      ]
     },
     "execution_count": 26,
     "metadata": {},
     "output_type": "execute_result"
    }
   ],
   "source": [
    "type(Tuple_2)"
   ]
  },
  {
   "cell_type": "code",
   "execution_count": 27,
   "id": "01d341e7",
   "metadata": {},
   "outputs": [],
   "source": [
    "Tuple_3 = (1,2,3,4,5,6,7,8,9,10,11,12,13,14,15,16,)"
   ]
  },
  {
   "cell_type": "code",
   "execution_count": 28,
   "id": "946ed1bb",
   "metadata": {},
   "outputs": [],
   "source": [
    "Tuple_4 = (4,)"
   ]
  },
  {
   "cell_type": "code",
   "execution_count": 29,
   "id": "785929a3",
   "metadata": {},
   "outputs": [
    {
     "data": {
      "text/plain": [
       "tuple"
      ]
     },
     "execution_count": 29,
     "metadata": {},
     "output_type": "execute_result"
    }
   ],
   "source": [
    "type(Tuple_4)"
   ]
  },
  {
   "cell_type": "code",
   "execution_count": 30,
   "id": "1fbc6f7d",
   "metadata": {},
   "outputs": [],
   "source": [
    "Tuple_5 = (4)"
   ]
  },
  {
   "cell_type": "code",
   "execution_count": 31,
   "id": "ab79b7c6",
   "metadata": {},
   "outputs": [
    {
     "data": {
      "text/plain": [
       "int"
      ]
     },
     "execution_count": 31,
     "metadata": {},
     "output_type": "execute_result"
    }
   ],
   "source": [
    "type(Tuple_5)"
   ]
  },
  {
   "cell_type": "code",
   "execution_count": 32,
   "id": "e38a52ac",
   "metadata": {},
   "outputs": [
    {
     "data": {
      "text/plain": [
       "('L', 'o', 'n', 'd', 'o', 'n')"
      ]
     },
     "execution_count": 32,
     "metadata": {},
     "output_type": "execute_result"
    }
   ],
   "source": [
    "tuple('London')"
   ]
  },
  {
   "cell_type": "code",
   "execution_count": 33,
   "id": "8de2c77d",
   "metadata": {},
   "outputs": [
    {
     "data": {
      "text/plain": [
       "('apple', 'banana', 'orange', 'melon', 'mangoes')"
      ]
     },
     "execution_count": 33,
     "metadata": {},
     "output_type": "execute_result"
    }
   ],
   "source": [
    "Tuple_1"
   ]
  },
  {
   "cell_type": "code",
   "execution_count": 34,
   "id": "b2e1655e",
   "metadata": {},
   "outputs": [
    {
     "data": {
      "text/plain": [
       "'mangoes'"
      ]
     },
     "execution_count": 34,
     "metadata": {},
     "output_type": "execute_result"
    }
   ],
   "source": [
    "Tuple_1[-1]"
   ]
  },
  {
   "cell_type": "code",
   "execution_count": 35,
   "id": "2761484e",
   "metadata": {},
   "outputs": [
    {
     "data": {
      "text/plain": [
       "('apple',\n",
       " 'banana',\n",
       " 'orange',\n",
       " 'melon',\n",
       " 'mangoes',\n",
       " 'Vivan',\n",
       " 'Pathak',\n",
       " 'Is',\n",
       " 'Smart')"
      ]
     },
     "execution_count": 35,
     "metadata": {},
     "output_type": "execute_result"
    }
   ],
   "source": [
    "Tuple_1 + Tuple_2"
   ]
  },
  {
   "cell_type": "code",
   "execution_count": 36,
   "id": "187f2d13",
   "metadata": {},
   "outputs": [
    {
     "data": {
      "text/plain": [
       "('Vivan',\n",
       " 'Pathak',\n",
       " 'Is',\n",
       " 'Smart',\n",
       " 'Vivan',\n",
       " 'Pathak',\n",
       " 'Is',\n",
       " 'Smart',\n",
       " 'Vivan',\n",
       " 'Pathak',\n",
       " 'Is',\n",
       " 'Smart')"
      ]
     },
     "execution_count": 36,
     "metadata": {},
     "output_type": "execute_result"
    }
   ],
   "source": [
    "Tuple_2 *3"
   ]
  },
  {
   "cell_type": "code",
   "execution_count": 37,
   "id": "72b00023",
   "metadata": {},
   "outputs": [
    {
     "ename": "TypeError",
     "evalue": "'tuple' object does not support item assignment",
     "output_type": "error",
     "traceback": [
      "\u001b[1;31m---------------------------------------------------------------------------\u001b[0m",
      "\u001b[1;31mTypeError\u001b[0m                                 Traceback (most recent call last)",
      "\u001b[1;32m~\\AppData\\Local\\Temp/ipykernel_9736/1272905273.py\u001b[0m in \u001b[0;36m<module>\u001b[1;34m\u001b[0m\n\u001b[1;32m----> 1\u001b[1;33m \u001b[0mTuple_2\u001b[0m\u001b[1;33m[\u001b[0m\u001b[1;36m0\u001b[0m\u001b[1;33m]\u001b[0m \u001b[1;33m=\u001b[0m \u001b[1;34m'Apple'\u001b[0m\u001b[1;33m\u001b[0m\u001b[1;33m\u001b[0m\u001b[0m\n\u001b[0m",
      "\u001b[1;31mTypeError\u001b[0m: 'tuple' object does not support item assignment"
     ]
    }
   ],
   "source": [
    "Tuple_2[0] = 'Apple'"
   ]
  },
  {
   "cell_type": "code",
   "execution_count": 40,
   "id": "66d1cf87",
   "metadata": {},
   "outputs": [],
   "source": [
    "Tuple_6 = \"Grapes\""
   ]
  },
  {
   "cell_type": "code",
   "execution_count": 41,
   "id": "1882b656",
   "metadata": {},
   "outputs": [
    {
     "ename": "TypeError",
     "evalue": "can only concatenate tuple (not \"str\") to tuple",
     "output_type": "error",
     "traceback": [
      "\u001b[1;31m---------------------------------------------------------------------------\u001b[0m",
      "\u001b[1;31mTypeError\u001b[0m                                 Traceback (most recent call last)",
      "\u001b[1;32m~\\AppData\\Local\\Temp/ipykernel_9736/2864841712.py\u001b[0m in \u001b[0;36m<module>\u001b[1;34m\u001b[0m\n\u001b[1;32m----> 1\u001b[1;33m \u001b[0mTuple_7\u001b[0m \u001b[1;33m=\u001b[0m \u001b[0mTuple_1\u001b[0m \u001b[1;33m+\u001b[0m \u001b[0mTuple_6\u001b[0m\u001b[1;33m\u001b[0m\u001b[1;33m\u001b[0m\u001b[0m\n\u001b[0m",
      "\u001b[1;31mTypeError\u001b[0m: can only concatenate tuple (not \"str\") to tuple"
     ]
    }
   ],
   "source": [
    "Tuple_7 = Tuple_1 + Tuple_6"
   ]
  },
  {
   "cell_type": "code",
   "execution_count": 42,
   "id": "d371e6d0",
   "metadata": {},
   "outputs": [
    {
     "data": {
      "text/plain": [
       "('apple', 'banana', 'orange', 'melon', 'mangoes')"
      ]
     },
     "execution_count": 42,
     "metadata": {},
     "output_type": "execute_result"
    }
   ],
   "source": [
    "Tuple_1"
   ]
  },
  {
   "cell_type": "code",
   "execution_count": 44,
   "id": "1e0af1ac",
   "metadata": {},
   "outputs": [
    {
     "data": {
      "text/plain": [
       "3"
      ]
     },
     "execution_count": 44,
     "metadata": {},
     "output_type": "execute_result"
    }
   ],
   "source": [
    "Tuple_1.index('melon')"
   ]
  },
  {
   "cell_type": "code",
   "execution_count": 45,
   "id": "b4fd5787",
   "metadata": {},
   "outputs": [
    {
     "data": {
      "text/plain": [
       "4"
      ]
     },
     "execution_count": 45,
     "metadata": {},
     "output_type": "execute_result"
    }
   ],
   "source": [
    "Tuple_1.index('mangoes')"
   ]
  },
  {
   "cell_type": "code",
   "execution_count": 46,
   "id": "56654a44",
   "metadata": {},
   "outputs": [
    {
     "data": {
      "text/plain": [
       "(1, 2, 3, 4, 5, 6, 7, 8, 9, 10, 11, 12, 13, 14, 15, 16)"
      ]
     },
     "execution_count": 46,
     "metadata": {},
     "output_type": "execute_result"
    }
   ],
   "source": [
    "Tuple_3"
   ]
  },
  {
   "cell_type": "code",
   "execution_count": 47,
   "id": "29ab3644",
   "metadata": {},
   "outputs": [
    {
     "data": {
      "text/plain": [
       "1"
      ]
     },
     "execution_count": 47,
     "metadata": {},
     "output_type": "execute_result"
    }
   ],
   "source": [
    "Tuple_3.count(1)"
   ]
  },
  {
   "cell_type": "code",
   "execution_count": 49,
   "id": "21365b18",
   "metadata": {},
   "outputs": [
    {
     "data": {
      "text/plain": [
       "('Vivan', 'Pathak', 'Is', 'Smart')"
      ]
     },
     "execution_count": 49,
     "metadata": {},
     "output_type": "execute_result"
    }
   ],
   "source": [
    "Tuple_2"
   ]
  },
  {
   "cell_type": "code",
   "execution_count": 50,
   "id": "a8a34469",
   "metadata": {},
   "outputs": [
    {
     "data": {
      "text/plain": [
       "1"
      ]
     },
     "execution_count": 50,
     "metadata": {},
     "output_type": "execute_result"
    }
   ],
   "source": [
    "Tuple_2.count('Is')"
   ]
  },
  {
   "cell_type": "code",
   "execution_count": 51,
   "id": "e2e8884e",
   "metadata": {},
   "outputs": [],
   "source": [
    "Tuple_8 = Tuple_1 + Tuple_2 "
   ]
  },
  {
   "cell_type": "code",
   "execution_count": 52,
   "id": "1905cca7",
   "metadata": {},
   "outputs": [
    {
     "data": {
      "text/plain": [
       "('apple',\n",
       " 'banana',\n",
       " 'orange',\n",
       " 'melon',\n",
       " 'mangoes',\n",
       " 'Vivan',\n",
       " 'Pathak',\n",
       " 'Is',\n",
       " 'Smart')"
      ]
     },
     "execution_count": 52,
     "metadata": {},
     "output_type": "execute_result"
    }
   ],
   "source": [
    "Tuple_8"
   ]
  },
  {
   "cell_type": "code",
   "execution_count": 55,
   "id": "55488f10",
   "metadata": {},
   "outputs": [
    {
     "data": {
      "text/plain": [
       "9"
      ]
     },
     "execution_count": 55,
     "metadata": {},
     "output_type": "execute_result"
    }
   ],
   "source": [
    "len(Tuple_8)"
   ]
  },
  {
   "cell_type": "code",
   "execution_count": null,
   "id": "87b009b3",
   "metadata": {},
   "outputs": [],
   "source": []
  }
 ],
 "metadata": {
  "kernelspec": {
   "display_name": "Python 3 (ipykernel)",
   "language": "python",
   "name": "python3"
  },
  "language_info": {
   "codemirror_mode": {
    "name": "ipython",
    "version": 3
   },
   "file_extension": ".py",
   "mimetype": "text/x-python",
   "name": "python",
   "nbconvert_exporter": "python",
   "pygments_lexer": "ipython3",
   "version": "3.9.7"
  }
 },
 "nbformat": 4,
 "nbformat_minor": 5
}
