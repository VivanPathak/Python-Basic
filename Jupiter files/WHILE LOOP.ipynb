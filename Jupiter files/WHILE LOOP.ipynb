{
 "cells": [
  {
   "cell_type": "code",
   "execution_count": 3,
   "id": "8436cdc5",
   "metadata": {},
   "outputs": [
    {
     "name": "stdout",
     "output_type": "stream",
     "text": [
      "0\n",
      "1\n",
      "2\n",
      "3\n",
      "4\n",
      "5\n",
      "6\n",
      "7\n",
      "8\n",
      "9\n",
      "10\n",
      "11\n",
      "12\n",
      "13\n",
      "14\n",
      "15\n"
     ]
    }
   ],
   "source": [
    "A = 0\n",
    "while A<=15:\n",
    "    print(A)\n",
    "    A+=1"
   ]
  },
  {
   "cell_type": "code",
   "execution_count": 4,
   "id": "42ead91a",
   "metadata": {},
   "outputs": [
    {
     "name": "stdout",
     "output_type": "stream",
     "text": [
      "0\n",
      "2\n",
      "4\n",
      "6\n",
      "8\n",
      "10\n",
      "12\n",
      "14\n",
      "16\n",
      "18\n",
      "20\n",
      "22\n",
      "24\n",
      "26\n",
      "28\n",
      "30\n",
      "32\n",
      "34\n",
      "36\n",
      "38\n",
      "40\n",
      "42\n",
      "44\n",
      "46\n",
      "48\n",
      "50\n",
      "52\n",
      "54\n",
      "56\n",
      "58\n",
      "60\n",
      "62\n",
      "64\n",
      "66\n",
      "68\n",
      "70\n",
      "72\n",
      "74\n",
      "76\n",
      "78\n",
      "80\n",
      "82\n",
      "84\n",
      "86\n",
      "88\n",
      "90\n",
      "92\n",
      "94\n",
      "96\n",
      "98\n",
      "100\n"
     ]
    }
   ],
   "source": [
    "a = 0\n",
    "while a<=100:\n",
    "    print(a)\n",
    "    a+=2"
   ]
  },
  {
   "cell_type": "code",
   "execution_count": 7,
   "id": "a5e227f4",
   "metadata": {},
   "outputs": [
    {
     "name": "stdout",
     "output_type": "stream",
     "text": [
      "vivan\n",
      "vivan\n",
      "vivan\n",
      "vivan\n",
      "vivan\n",
      "vivan\n",
      "vivan\n",
      "vivan\n",
      "vivan\n",
      "vivan\n",
      "vivan\n",
      "vivan\n",
      "vivan\n",
      "vivan\n",
      "vivan\n",
      "vivan\n",
      "vivan\n",
      "vivan\n",
      "vivan\n",
      "vivan\n",
      "vivan\n",
      "vivan\n",
      "vivan\n",
      "vivan\n",
      "vivan\n",
      "vivan\n",
      "vivan\n",
      "vivan\n",
      "vivan\n",
      "vivan\n",
      "vivan\n",
      "vivan\n",
      "vivan\n",
      "vivan\n",
      "vivan\n"
     ]
    }
   ],
   "source": [
    "A = 0\n",
    "while A<=34:\n",
    "    print(\"vivan\")\n",
    "    A+=1"
   ]
  },
  {
   "cell_type": "code",
   "execution_count": null,
   "id": "373ddcc3",
   "metadata": {},
   "outputs": [],
   "source": []
  }
 ],
 "metadata": {
  "kernelspec": {
   "display_name": "Python 3 (ipykernel)",
   "language": "python",
   "name": "python3"
  },
  "language_info": {
   "codemirror_mode": {
    "name": "ipython",
    "version": 3
   },
   "file_extension": ".py",
   "mimetype": "text/x-python",
   "name": "python",
   "nbconvert_exporter": "python",
   "pygments_lexer": "ipython3",
   "version": "3.9.7"
  }
 },
 "nbformat": 4,
 "nbformat_minor": 5
}
