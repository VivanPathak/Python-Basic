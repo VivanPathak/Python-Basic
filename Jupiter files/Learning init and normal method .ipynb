{
 "cells": [
  {
   "cell_type": "code",
   "execution_count": 12,
   "id": "2046e89c",
   "metadata": {},
   "outputs": [],
   "source": [
    "class House:\n",
    "\n",
    "    def __init__(self, wall_area):\n",
    "        self.wall_area = wall_area\n",
    "\n",
    "    def paint_needed(self):\n",
    "        return self.wall_area * 2.5\n",
    "       \n",
    "        \n",
    "class Paint:\n",
    "\n",
    "    def __init__(self, buckets, color):\n",
    "        self.color = color\n",
    "        self.buckets = buckets\n",
    "        \n",
    "    def total_price(self):\n",
    "         if self.color == \"white\":\n",
    "             return self.buckets * 1.99\n",
    "             \n",
    "         else:\n",
    "             return self.buckets * 2.19"
   ]
  },
  {
   "cell_type": "code",
   "execution_count": 13,
   "id": "63c63bac",
   "metadata": {},
   "outputs": [],
   "source": [
    "paint = Paint(23,\"black\")\n"
   ]
  },
  {
   "cell_type": "code",
   "execution_count": 15,
   "id": "fd27fb77",
   "metadata": {},
   "outputs": [
    {
     "data": {
      "text/plain": [
       "50.37"
      ]
     },
     "execution_count": 15,
     "metadata": {},
     "output_type": "execute_result"
    }
   ],
   "source": [
    "paint.total_price()"
   ]
  },
  {
   "cell_type": "code",
   "execution_count": null,
   "id": "84d7887d",
   "metadata": {},
   "outputs": [],
   "source": []
  }
 ],
 "metadata": {
  "kernelspec": {
   "display_name": "Python 3 (ipykernel)",
   "language": "python",
   "name": "python3"
  },
  "language_info": {
   "codemirror_mode": {
    "name": "ipython",
    "version": 3
   },
   "file_extension": ".py",
   "mimetype": "text/x-python",
   "name": "python",
   "nbconvert_exporter": "python",
   "pygments_lexer": "ipython3",
   "version": "3.9.7"
  }
 },
 "nbformat": 4,
 "nbformat_minor": 5
}
