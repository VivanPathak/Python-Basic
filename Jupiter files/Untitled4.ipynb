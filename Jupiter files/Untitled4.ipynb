{
 "cells": [
  {
   "cell_type": "code",
   "execution_count": 1,
   "id": "63b29f82",
   "metadata": {},
   "outputs": [],
   "source": [
    "import time\n",
    "class Principal():\n",
    "    def __init__(self, Name, Last_Name, Age, Gender, DOB, School_Name):\n",
    "        self.Name = Name\n",
    "        self.Last_Name = Last_Name\n",
    "        self.Age = Age\n",
    "        self.Gender = Gender\n",
    "        self.DOB = DOB\n",
    "        self.School_Name = School_Name\n",
    "        print(\"Fetching Details...\")\n",
    "        time.sleep((2))\n",
    "        print(\"Done...\")\n",
    "        \n",
    "        \n",
    "    def Show_Info(self):\n",
    "        print(\"Information: \"\n",
    "             \"\\nName: \", self.Name,\n",
    "             \"\\nLast_Name: \", self.Last_Name,\n",
    "             \"\\nAge: \", self.Age,\n",
    "             \"\\nGender: \", self.Gender,\n",
    "             \"\\nDOB: \", self.DOB, \n",
    "             \"\\nSchool_Name: \", self.School_Name)"
   ]
  },
  {
   "cell_type": "code",
   "execution_count": 8,
   "id": "c40f4345",
   "metadata": {},
   "outputs": [],
   "source": [
    "class Teacher(Principal):\n",
    "    def __init__(self, Name, Last_Name, Age, Gender, DOB, School_Name,Subjects):\n",
    "        self.Name = Name\n",
    "        self.Last_Name = Last_Name\n",
    "        self.Age = Age\n",
    "        self.Gender = Gender\n",
    "        self.DOB = DOB\n",
    "        self.School_Name = School_Name\n",
    "        self.Subjects =  Subjects\n",
    "        print(\"Storing Details ...\")\n",
    "        time.sleep((2))\n",
    "        print(\"Done...\")\n",
    "    def Show_Info(self):\n",
    "        print(\"Information: \"\n",
    "             \"\\nName: \", self.Name,\n",
    "             \"\\nLast_Name: \", self.Last_Name,\n",
    "             \"\\nAge: \", self.Age,\n",
    "             \"\\nGender: \", self.Gender,\n",
    "             \"\\nDOB: \", self.DOB, \n",
    "             \"\\nSchool_Name: \", self.School_Name,\n",
    "             \"\\nSubjects:\", self.Subjects)     \n",
    "        "
   ]
  },
  {
   "cell_type": "code",
   "execution_count": 9,
   "id": "23c3c2ee",
   "metadata": {},
   "outputs": [
    {
     "name": "stdout",
     "output_type": "stream",
     "text": [
      "Storing Details ...\n",
      "Done...\n"
     ]
    }
   ],
   "source": [
    "Teacher_1 = Teacher(\"Vivan\",\"Pathak\",\"30\",\"Male\",\"02/09/1992\",\"Sagar Public School\",\"Evs And Maths\")"
   ]
  },
  {
   "cell_type": "code",
   "execution_count": 11,
   "id": "8dfc9c63",
   "metadata": {},
   "outputs": [
    {
     "name": "stdout",
     "output_type": "stream",
     "text": [
      "Information: \n",
      "Name:  Vivan \n",
      "Last_Name:  Pathak \n",
      "Age:  30 \n",
      "Gender:  Male \n",
      "DOB:  02/09/1992 \n",
      "School_Name:  Sagar Public School \n",
      "Subjects: Evs And Maths\n"
     ]
    }
   ],
   "source": [
    "Teacher_1.Show_Info()"
   ]
  },
  {
   "cell_type": "code",
   "execution_count": 12,
   "id": "ebf51bf6",
   "metadata": {},
   "outputs": [
    {
     "data": {
      "text/plain": [
       "'Evs And Maths'"
      ]
     },
     "execution_count": 12,
     "metadata": {},
     "output_type": "execute_result"
    }
   ],
   "source": [
    "Teacher_1.Subjects"
   ]
  },
  {
   "cell_type": "code",
   "execution_count": null,
   "id": "99a68e39",
   "metadata": {},
   "outputs": [],
   "source": []
  }
 ],
 "metadata": {
  "kernelspec": {
   "display_name": "Python 3 (ipykernel)",
   "language": "python",
   "name": "python3"
  },
  "language_info": {
   "codemirror_mode": {
    "name": "ipython",
    "version": 3
   },
   "file_extension": ".py",
   "mimetype": "text/x-python",
   "name": "python",
   "nbconvert_exporter": "python",
   "pygments_lexer": "ipython3",
   "version": "3.9.7"
  }
 },
 "nbformat": 4,
 "nbformat_minor": 5
}
