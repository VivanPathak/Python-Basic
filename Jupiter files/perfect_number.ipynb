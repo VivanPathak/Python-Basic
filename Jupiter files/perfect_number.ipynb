{
 "cells": [
  {
   "cell_type": "code",
   "execution_count": 5,
   "id": "1d4e31c6",
   "metadata": {},
   "outputs": [
    {
     "name": "stdout",
     "output_type": "stream",
     "text": [
      "Pls enter a number here 6\n",
      "Your number is a perfect number\n"
     ]
    }
   ],
   "source": [
    "Number = int(input(\"Pls enter a number here \"))\n",
    "\n",
    "Value = 1\n",
    "Sum = 0\n",
    "\n",
    "while Value < Number:\n",
    "    if Number % Value == 0:\n",
    "        Sum += Value\n",
    "    Value += 1\n",
    "    \n",
    "if Sum == Number:\n",
    "    print(\"Your number is a perfect number\")\n",
    "    \n",
    "else:\n",
    "    print(\"It's not a perfect number \")"
   ]
  },
  {
   "cell_type": "code",
   "execution_count": null,
   "id": "342e98d6",
   "metadata": {},
   "outputs": [],
   "source": []
  }
 ],
 "metadata": {
  "kernelspec": {
   "display_name": "Python 3 (ipykernel)",
   "language": "python",
   "name": "python3"
  },
  "language_info": {
   "codemirror_mode": {
    "name": "ipython",
    "version": 3
   },
   "file_extension": ".py",
   "mimetype": "text/x-python",
   "name": "python",
   "nbconvert_exporter": "python",
   "pygments_lexer": "ipython3",
   "version": "3.9.7"
  }
 },
 "nbformat": 4,
 "nbformat_minor": 5
}
