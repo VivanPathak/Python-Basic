{
 "cells": [
  {
   "cell_type": "code",
   "execution_count": 1,
   "id": "c612abaf",
   "metadata": {},
   "outputs": [],
   "source": [
    "class House:\n",
    "\n",
    "    def __init__(self, wall_area):\n",
    "        self.wall_area = wall_area"
   ]
  },
  {
   "cell_type": "code",
   "execution_count": 2,
   "id": "9b6bab66",
   "metadata": {},
   "outputs": [],
   "source": [
    "House_1 = House(\"1231\")"
   ]
  },
  {
   "cell_type": "code",
   "execution_count": 3,
   "id": "8af172f0",
   "metadata": {},
   "outputs": [
    {
     "data": {
      "text/plain": [
       "'1231'"
      ]
     },
     "execution_count": 3,
     "metadata": {},
     "output_type": "execute_result"
    }
   ],
   "source": [
    "House_1.wall_area"
   ]
  },
  {
   "cell_type": "code",
   "execution_count": 4,
   "id": "050f5e9f",
   "metadata": {},
   "outputs": [],
   "source": [
    "class House:\n",
    "\n",
    "    def __init__(self, wall_area):\n",
    "        self.wall_area = wall_area\n",
    "        \n",
    "        \n",
    "class Paint:\n",
    "    \n",
    "    def __init__(self, buckets, colour):\n",
    "        self.buckets = buckets\n",
    "        self.colour = colour"
   ]
  },
  {
   "cell_type": "code",
   "execution_count": 5,
   "id": "42181351",
   "metadata": {},
   "outputs": [],
   "source": [
    "House_2 = House(1234)\n",
    "Paint_1 = Paint(13,\"orange\")"
   ]
  },
  {
   "cell_type": "code",
   "execution_count": 6,
   "id": "e20a0a6a",
   "metadata": {},
   "outputs": [
    {
     "data": {
      "text/plain": [
       "1234"
      ]
     },
     "execution_count": 6,
     "metadata": {},
     "output_type": "execute_result"
    }
   ],
   "source": [
    "House_2.wall_area"
   ]
  },
  {
   "cell_type": "code",
   "execution_count": 7,
   "id": "10a49652",
   "metadata": {},
   "outputs": [
    {
     "data": {
      "text/plain": [
       "'orange'"
      ]
     },
     "execution_count": 7,
     "metadata": {},
     "output_type": "execute_result"
    }
   ],
   "source": [
    "Paint_1.colour"
   ]
  },
  {
   "cell_type": "code",
   "execution_count": 8,
   "id": "90fa0b94",
   "metadata": {},
   "outputs": [],
   "source": [
    "class House:\n",
    "\n",
    "    def __init__(self, wall_area):\n",
    "        self.wall_area = wall_area\n",
    "\n",
    "    def paint_needed(self, buckets):\n",
    "        self.buckets = buckets\n",
    "        return buckets * self.wall_area\n",
    "class Paint:\n",
    "\n",
    "    def __init__(self, buckets, color):\n",
    "        self.color = color\n",
    "        self.buckets = buckets"
   ]
  },
  {
   "cell_type": "code",
   "execution_count": 9,
   "id": "9b05df2d",
   "metadata": {},
   "outputs": [],
   "source": [
    "House_3 = House(2312)\n",
    "Paint_2 = Paint(12,\"Yellow\")"
   ]
  },
  {
   "cell_type": "code",
   "execution_count": 10,
   "id": "1d01c735",
   "metadata": {},
   "outputs": [],
   "source": [
    "class House:\n",
    "\n",
    "    def __init__(self, wall_area):\n",
    "        self.wall_area = wall_area\n",
    "\n",
    "    def paint_needed(self):\n",
    "        return self.wall_area * 2.5\n",
    "       \n",
    "        \n",
    "class Paint:\n",
    "\n",
    "    def __init__(self, buckets, color):\n",
    "        self.color = color\n",
    "        self.buckets = buckets\n",
    "        \n",
    "    def total_price(self):\n",
    "         if self.color == \"white\":\n",
    "             return self.buckets * 1.99\n",
    "             \n",
    "         else:\n",
    "             return self.buckets * 2.19\n",
    "            "
   ]
  },
  {
   "cell_type": "code",
   "execution_count": null,
   "id": "f43ab850",
   "metadata": {},
   "outputs": [],
   "source": []
  }
 ],
 "metadata": {
  "kernelspec": {
   "display_name": "Python 3 (ipykernel)",
   "language": "python",
   "name": "python3"
  },
  "language_info": {
   "codemirror_mode": {
    "name": "ipython",
    "version": 3
   },
   "file_extension": ".py",
   "mimetype": "text/x-python",
   "name": "python",
   "nbconvert_exporter": "python",
   "pygments_lexer": "ipython3",
   "version": "3.9.7"
  }
 },
 "nbformat": 4,
 "nbformat_minor": 5
}
