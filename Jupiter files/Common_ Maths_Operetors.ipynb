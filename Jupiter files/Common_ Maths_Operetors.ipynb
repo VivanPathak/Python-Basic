{
 "cells": [
  {
   "cell_type": "code",
   "execution_count": 3,
   "id": "1e2fcf3c",
   "metadata": {},
   "outputs": [],
   "source": [
    "Number_1 = 1029384756\n",
    "Number_2 = 9192837465"
   ]
  },
  {
   "cell_type": "code",
   "execution_count": 4,
   "id": "aca80ea8",
   "metadata": {},
   "outputs": [
    {
     "name": "stdout",
     "output_type": "stream",
     "text": [
      "10222222221\n"
     ]
    }
   ],
   "source": [
    "print(Number_1 + Number_2)"
   ]
  },
  {
   "cell_type": "code",
   "execution_count": 5,
   "id": "a9ecf1d3",
   "metadata": {},
   "outputs": [],
   "source": [
    "Number_3 = 123456789\n",
    "Number_4 = 987654321"
   ]
  },
  {
   "cell_type": "code",
   "execution_count": 7,
   "id": "61bb5e12",
   "metadata": {},
   "outputs": [
    {
     "data": {
      "text/plain": [
       "864197532"
      ]
     },
     "execution_count": 7,
     "metadata": {},
     "output_type": "execute_result"
    }
   ],
   "source": [
    "Number_4 - Number_3"
   ]
  },
  {
   "cell_type": "code",
   "execution_count": 8,
   "id": "900c7413",
   "metadata": {},
   "outputs": [],
   "source": [
    "Number_5 = 234567899\n",
    "Number_6 = 2"
   ]
  },
  {
   "cell_type": "code",
   "execution_count": 9,
   "id": "8337729c",
   "metadata": {},
   "outputs": [
    {
     "data": {
      "text/plain": [
       "469135798"
      ]
     },
     "execution_count": 9,
     "metadata": {},
     "output_type": "execute_result"
    }
   ],
   "source": [
    "Number_5 * Number_6"
   ]
  },
  {
   "cell_type": "code",
   "execution_count": 10,
   "id": "35620bb3",
   "metadata": {},
   "outputs": [],
   "source": [
    "Number_7 = 12345678901234567890"
   ]
  },
  {
   "cell_type": "code",
   "execution_count": 11,
   "id": "a282b56f",
   "metadata": {},
   "outputs": [],
   "source": [
    "Number_8 = 123"
   ]
  },
  {
   "cell_type": "code",
   "execution_count": 12,
   "id": "4e3d6e48",
   "metadata": {},
   "outputs": [
    {
     "data": {
      "text/plain": [
       "9.963000089667001e-18"
      ]
     },
     "execution_count": 12,
     "metadata": {},
     "output_type": "execute_result"
    }
   ],
   "source": [
    "Number_8 / Number_7"
   ]
  }
 ],
 "metadata": {
  "kernelspec": {
   "display_name": "Python 3 (ipykernel)",
   "language": "python",
   "name": "python3"
  },
  "language_info": {
   "codemirror_mode": {
    "name": "ipython",
    "version": 3
   },
   "file_extension": ".py",
   "mimetype": "text/x-python",
   "name": "python",
   "nbconvert_exporter": "python",
   "pygments_lexer": "ipython3",
   "version": "3.9.7"
  }
 },
 "nbformat": 4,
 "nbformat_minor": 5
}
