{
 "cells": [
  {
   "cell_type": "code",
   "execution_count": 1,
   "id": "0e35d1da",
   "metadata": {},
   "outputs": [],
   "source": [
    "class Point:\n",
    "\n",
    "    def __init__(self, x, y):\n",
    "        self.x = x\n",
    "        self.y = y\n",
    "\n",
    "    def falls_in_rectangle(self,rectangle):\n",
    "        if rectangle.lowleft.x < self.x < rectangle.upright.x and rectangle.lowleft.y < self.y < rectangle.upright.y:\n",
    "            return True\n",
    "        else:\n",
    "            return False\n",
    "\n",
    "class Rectangle:\n",
    "\n",
    "    def __init__(self, upright, lowleft):\n",
    "        self.upright = upright\n",
    "        self.lowleft = lowleft\n",
    "        \n",
    "    def area(self):\n",
    "        return(self.upright.x - self.lowleft.x) * (self.upright.y - self.lowleft.y)"
   ]
  },
  {
   "cell_type": "code",
   "execution_count": 2,
   "id": "7b3886e0",
   "metadata": {},
   "outputs": [
    {
     "name": "stdout",
     "output_type": "stream",
     "text": [
      "Here are the cordinates of Rectangle (( 13 , 10 )) , (( 3 , 3 ))\n",
      "Guess X: 12\n",
      "Guess Y: 123\n",
      "Your  point was In the Rectangle or not???:  False\n",
      "Guess the area of the rectangle: 12\n",
      "Your area was off by:  58.0\n"
     ]
    }
   ],
   "source": [
    "from random import randint\n",
    "\n",
    "rectangle = Rectangle(\n",
    "\n",
    "  Point(randint(0,9), randint(0,9)),Point(randint(10,19), randint(10,19)))\n",
    "\n",
    "print(\"Here are the cordinates of Rectangle\",\"((\",\n",
    "      rectangle.lowleft.x,\",\",rectangle.lowleft.y,\"))\",\",\",\"((\",rectangle.upright.x,\",\",rectangle.upright.y,\"))\")\n",
    "\n",
    "user_guess = Point(float(input(\"Guess X: \")),\n",
    "             float(input(\"Guess Y: \")))\n",
    "\n",
    "\n",
    "print(\"Your  point was In the Rectangle or not???: \",\n",
    "     user_guess.falls_in_rectangle(rectangle))\n",
    "\n",
    "user_area = float(input(\"Guess the area of the rectangle: \"))\n",
    "\n",
    "print(\"Your area was off by: \",\n",
    "      rectangle.area() - user_area)"
   ]
  },
  {
   "cell_type": "code",
   "execution_count": null,
   "id": "5a6e1d26",
   "metadata": {},
   "outputs": [],
   "source": [
    "#there was an error in the above code and i choose to rewrite it in an actual good way and not edit it."
   ]
  },
  {
   "cell_type": "code",
   "execution_count": 4,
   "id": "25595f6e",
   "metadata": {},
   "outputs": [
    {
     "name": "stdout",
     "output_type": "stream",
     "text": [
      "Rectangle Coordinates:  0 , 2 and 14 , 19\n",
      "Guess x: 1\n",
      "Guess y: 15\n",
      "Guess rectangle area: 30\n",
      "Your point was inside rectangle:  True\n",
      "Your area was off by:  208.0\n"
     ]
    }
   ],
   "source": [
    "from random import randint\n",
    " \n",
    "class Point:\n",
    " \n",
    "    def __init__(self, x, y):\n",
    "        self.x = x\n",
    "        self.y = y\n",
    " \n",
    "    def falls_in_rectangle(self, rectangle):\n",
    "        if rectangle.point1.x < self.x < rectangle.point2.x \\\n",
    "                and rectangle.point1.y < self.y < rectangle.point2.y:\n",
    "            return True\n",
    "        else:\n",
    "            return False\n",
    " \n",
    " \n",
    "class Rectangle:\n",
    " \n",
    "    def __init__(self, point1, point2):\n",
    "        self.point1 = point1\n",
    "        self.point2 = point2\n",
    " \n",
    "    def area(self):\n",
    "        return (self.point2.x - self.point1.x) * \\\n",
    "               (self.point2.y - self.point1.y)\n",
    " \n",
    " \n",
    "\n",
    "rectangle = Rectangle(Point(randint(0, 9), randint(0, 9)), \n",
    "              Point(randint(10, 19), randint(10, 19)))\n",
    " \n",
    "\n",
    "print(\"Rectangle Coordinates: \",\n",
    "      rectangle.point1.x, \",\",\n",
    "      rectangle.point1.y, \"and\",\n",
    "      rectangle.point2.x, \",\",\n",
    "      rectangle.point2.y)\n",
    " \n",
    "\n",
    "user_point = Point(float(input(\"Guess x: \")), float(input(\"Guess y: \")))\n",
    "user_area = float(input(\"Guess rectangle area: \"))\n",
    " \n",
    "\n",
    "print(\"Your point was inside rectangle: \", user_point.falls_in_rectangle(rectangle))\n",
    "print(\"Your area was off by: \", rectangle.area() - user_area)"
   ]
  },
  {
   "cell_type": "code",
   "execution_count": null,
   "id": "cd247ec1",
   "metadata": {},
   "outputs": [],
   "source": []
  }
 ],
 "metadata": {
  "kernelspec": {
   "display_name": "Python 3 (ipykernel)",
   "language": "python",
   "name": "python3"
  },
  "language_info": {
   "codemirror_mode": {
    "name": "ipython",
    "version": 3
   },
   "file_extension": ".py",
   "mimetype": "text/x-python",
   "name": "python",
   "nbconvert_exporter": "python",
   "pygments_lexer": "ipython3",
   "version": "3.9.7"
  }
 },
 "nbformat": 4,
 "nbformat_minor": 5
}
