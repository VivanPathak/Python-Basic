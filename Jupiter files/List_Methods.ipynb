{
 "cells": [
  {
   "cell_type": "code",
   "execution_count": 1,
   "id": "16677896",
   "metadata": {},
   "outputs": [],
   "source": [
    "List = [1,2,3,4,5,6,7,8,9,10,11,12]\n"
   ]
  },
  {
   "cell_type": "code",
   "execution_count": 2,
   "id": "3cddbfa2",
   "metadata": {},
   "outputs": [],
   "source": [
    "List.append(13)"
   ]
  },
  {
   "cell_type": "code",
   "execution_count": 3,
   "id": "d6a05108",
   "metadata": {},
   "outputs": [
    {
     "data": {
      "text/plain": [
       "[1, 2, 3, 4, 5, 6, 7, 8, 9, 10, 11, 12, 13]"
      ]
     },
     "execution_count": 3,
     "metadata": {},
     "output_type": "execute_result"
    }
   ],
   "source": [
    "List"
   ]
  },
  {
   "cell_type": "code",
   "execution_count": 4,
   "id": "cc894d79",
   "metadata": {},
   "outputs": [],
   "source": [
    "Trial_List = [\"A\",\"B\",\"C\",\"D\"]"
   ]
  },
  {
   "cell_type": "code",
   "execution_count": 5,
   "id": "a35e353c",
   "metadata": {},
   "outputs": [],
   "source": [
    "Trial_List.append(\"E\")"
   ]
  },
  {
   "cell_type": "code",
   "execution_count": 6,
   "id": "5a43a368",
   "metadata": {},
   "outputs": [
    {
     "data": {
      "text/plain": [
       "['A', 'B', 'C', 'D', 'E']"
      ]
     },
     "execution_count": 6,
     "metadata": {},
     "output_type": "execute_result"
    }
   ],
   "source": [
    "Trial_List"
   ]
  },
  {
   "cell_type": "code",
   "execution_count": 7,
   "id": "71f0d603",
   "metadata": {},
   "outputs": [],
   "source": [
    "My_List = [1,3,5,7,9,11]"
   ]
  },
  {
   "cell_type": "code",
   "execution_count": 8,
   "id": "cc745728",
   "metadata": {},
   "outputs": [
    {
     "data": {
      "text/plain": [
       "1"
      ]
     },
     "execution_count": 8,
     "metadata": {},
     "output_type": "execute_result"
    }
   ],
   "source": [
    "My_List.count(3)"
   ]
  },
  {
   "cell_type": "code",
   "execution_count": 9,
   "id": "7d228854",
   "metadata": {},
   "outputs": [],
   "source": [
    "My_List1 = [\"Apple1\", \"Banana6\", \"Mangoes3\"]"
   ]
  },
  {
   "cell_type": "code",
   "execution_count": 10,
   "id": "dfb5a461",
   "metadata": {},
   "outputs": [
    {
     "data": {
      "text/plain": [
       "1"
      ]
     },
     "execution_count": 10,
     "metadata": {},
     "output_type": "execute_result"
    }
   ],
   "source": [
    "My_List1.count(\"Banana6\")"
   ]
  },
  {
   "cell_type": "code",
   "execution_count": 11,
   "id": "c27b44f8",
   "metadata": {},
   "outputs": [],
   "source": [
    "V_List = [256,257,258,259]"
   ]
  },
  {
   "cell_type": "code",
   "execution_count": 12,
   "id": "9f1df9c7",
   "metadata": {},
   "outputs": [],
   "source": [
    "B_List = [260,261,262,263]"
   ]
  },
  {
   "cell_type": "code",
   "execution_count": 13,
   "id": "290e1e93",
   "metadata": {},
   "outputs": [],
   "source": [
    "V_List.extend(B_List)"
   ]
  },
  {
   "cell_type": "code",
   "execution_count": 14,
   "id": "3011858b",
   "metadata": {},
   "outputs": [
    {
     "data": {
      "text/plain": [
       "[256, 257, 258, 259, 260, 261, 262, 263]"
      ]
     },
     "execution_count": 14,
     "metadata": {},
     "output_type": "execute_result"
    }
   ],
   "source": [
    "V_List"
   ]
  },
  {
   "cell_type": "code",
   "execution_count": 15,
   "id": "c6dc8ff9",
   "metadata": {},
   "outputs": [
    {
     "data": {
      "text/plain": [
       "[260, 261, 262, 263]"
      ]
     },
     "execution_count": 15,
     "metadata": {},
     "output_type": "execute_result"
    }
   ],
   "source": [
    "B_List"
   ]
  },
  {
   "cell_type": "code",
   "execution_count": 16,
   "id": "2e3e86b0",
   "metadata": {},
   "outputs": [],
   "source": [
    "A_List = [\"Apple\",\"FootBall\",\"Cricket\"]"
   ]
  },
  {
   "cell_type": "code",
   "execution_count": 17,
   "id": "a1498859",
   "metadata": {},
   "outputs": [
    {
     "data": {
      "text/plain": [
       "2"
      ]
     },
     "execution_count": 17,
     "metadata": {},
     "output_type": "execute_result"
    }
   ],
   "source": [
    "A_List.index(\"Cricket\")"
   ]
  },
  {
   "cell_type": "code",
   "execution_count": 18,
   "id": "18b11f5f",
   "metadata": {},
   "outputs": [],
   "source": [
    "C_List = [200,300,400,500,600]"
   ]
  },
  {
   "cell_type": "code",
   "execution_count": 19,
   "id": "b4a0cd1d",
   "metadata": {},
   "outputs": [
    {
     "data": {
      "text/plain": [
       "3"
      ]
     },
     "execution_count": 19,
     "metadata": {},
     "output_type": "execute_result"
    }
   ],
   "source": [
    "C_List.index(500)"
   ]
  },
  {
   "cell_type": "code",
   "execution_count": 20,
   "id": "4e8bccdb",
   "metadata": {},
   "outputs": [],
   "source": [
    "D_List = [\"ABC\",\"DEF\",\"GHI\",\"MN0\"]"
   ]
  },
  {
   "cell_type": "code",
   "execution_count": 21,
   "id": "26915df9",
   "metadata": {},
   "outputs": [],
   "source": [
    "D_List.insert(3,\"JKL\")"
   ]
  },
  {
   "cell_type": "code",
   "execution_count": 22,
   "id": "c0e361e9",
   "metadata": {},
   "outputs": [
    {
     "data": {
      "text/plain": [
       "['ABC', 'DEF', 'GHI', 'JKL', 'MN0']"
      ]
     },
     "execution_count": 22,
     "metadata": {},
     "output_type": "execute_result"
    }
   ],
   "source": [
    "D_List"
   ]
  },
  {
   "cell_type": "code",
   "execution_count": 23,
   "id": "4155fd17",
   "metadata": {},
   "outputs": [
    {
     "data": {
      "text/plain": [
       "[1, 2, 3, 4, 5, 6, 7, 8, 9, 10, 11, 12, 13]"
      ]
     },
     "execution_count": 23,
     "metadata": {},
     "output_type": "execute_result"
    }
   ],
   "source": [
    "List"
   ]
  },
  {
   "cell_type": "code",
   "execution_count": 24,
   "id": "0ccb4fd7",
   "metadata": {},
   "outputs": [
    {
     "data": {
      "text/plain": [
       "13"
      ]
     },
     "execution_count": 24,
     "metadata": {},
     "output_type": "execute_result"
    }
   ],
   "source": [
    "List.pop()"
   ]
  },
  {
   "cell_type": "code",
   "execution_count": 25,
   "id": "14e2d647",
   "metadata": {},
   "outputs": [
    {
     "data": {
      "text/plain": [
       "[1, 2, 3, 4, 5, 6, 7, 8, 9, 10, 11, 12]"
      ]
     },
     "execution_count": 25,
     "metadata": {},
     "output_type": "execute_result"
    }
   ],
   "source": [
    "List"
   ]
  },
  {
   "cell_type": "code",
   "execution_count": 26,
   "id": "fc00b589",
   "metadata": {},
   "outputs": [
    {
     "data": {
      "text/plain": [
       "1"
      ]
     },
     "execution_count": 26,
     "metadata": {},
     "output_type": "execute_result"
    }
   ],
   "source": [
    "List.pop(0)"
   ]
  },
  {
   "cell_type": "code",
   "execution_count": 27,
   "id": "6b4c3ddc",
   "metadata": {},
   "outputs": [
    {
     "data": {
      "text/plain": [
       "[2, 3, 4, 5, 6, 7, 8, 9, 10, 11, 12]"
      ]
     },
     "execution_count": 27,
     "metadata": {},
     "output_type": "execute_result"
    }
   ],
   "source": [
    "List"
   ]
  },
  {
   "cell_type": "code",
   "execution_count": 28,
   "id": "8d99e64d",
   "metadata": {},
   "outputs": [
    {
     "data": {
      "text/plain": [
       "[1, 3, 5, 7, 9, 11]"
      ]
     },
     "execution_count": 28,
     "metadata": {},
     "output_type": "execute_result"
    }
   ],
   "source": [
    "My_List"
   ]
  },
  {
   "cell_type": "code",
   "execution_count": 29,
   "id": "adb1bd9a",
   "metadata": {},
   "outputs": [],
   "source": [
    "My_List.remove(5)"
   ]
  },
  {
   "cell_type": "code",
   "execution_count": 30,
   "id": "e45f90e8",
   "metadata": {},
   "outputs": [
    {
     "data": {
      "text/plain": [
       "[1, 3, 7, 9, 11]"
      ]
     },
     "execution_count": 30,
     "metadata": {},
     "output_type": "execute_result"
    }
   ],
   "source": [
    "My_List"
   ]
  },
  {
   "cell_type": "code",
   "execution_count": 31,
   "id": "de11abe6",
   "metadata": {},
   "outputs": [],
   "source": [
    "E_List = [-1,89,200,34,-5,-19000,200]"
   ]
  },
  {
   "cell_type": "code",
   "execution_count": 32,
   "id": "33bf6949",
   "metadata": {},
   "outputs": [],
   "source": [
    "E_List.sort()"
   ]
  },
  {
   "cell_type": "code",
   "execution_count": 33,
   "id": "c8a67c5d",
   "metadata": {},
   "outputs": [
    {
     "data": {
      "text/plain": [
       "[-19000, -5, -1, 34, 89, 200, 200]"
      ]
     },
     "execution_count": 33,
     "metadata": {},
     "output_type": "execute_result"
    }
   ],
   "source": [
    "E_List"
   ]
  },
  {
   "cell_type": "code",
   "execution_count": 34,
   "id": "b9cc535a",
   "metadata": {},
   "outputs": [],
   "source": [
    "F_List = [\"YAK\",\"India\",\"America\",\"Aadi\"]"
   ]
  },
  {
   "cell_type": "code",
   "execution_count": 35,
   "id": "79a7e316",
   "metadata": {},
   "outputs": [],
   "source": [
    "F_List.sort()"
   ]
  },
  {
   "cell_type": "code",
   "execution_count": 36,
   "id": "6f0f868b",
   "metadata": {},
   "outputs": [
    {
     "data": {
      "text/plain": [
       "['Aadi', 'America', 'India', 'YAK']"
      ]
     },
     "execution_count": 36,
     "metadata": {},
     "output_type": "execute_result"
    }
   ],
   "source": [
    "F_List"
   ]
  }
 ],
 "metadata": {
  "kernelspec": {
   "display_name": "Python 3 (ipykernel)",
   "language": "python",
   "name": "python3"
  },
  "language_info": {
   "codemirror_mode": {
    "name": "ipython",
    "version": 3
   },
   "file_extension": ".py",
   "mimetype": "text/x-python",
   "name": "python",
   "nbconvert_exporter": "python",
   "pygments_lexer": "ipython3",
   "version": "3.9.7"
  }
 },
 "nbformat": 4,
 "nbformat_minor": 5
}
