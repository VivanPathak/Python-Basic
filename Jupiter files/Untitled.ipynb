{
 "cells": [
  {
   "cell_type": "code",
   "execution_count": 15,
   "id": "8d3064ee",
   "metadata": {},
   "outputs": [],
   "source": [
    "import time\n",
    "\n",
    "class ProfileSetup():\n",
    "    \n",
    "    def __init__(self,Name,LastName,Age,DOB,Profession,Education,MarriageStatus,FamilyMembers,Address,Email,PhoneNumber):\n",
    "        self.Name = Name\n",
    "        self.LastName = LastName\n",
    "        self.Age = Age\n",
    "        self.DOB = DOB\n",
    "        self.Profession = Profession\n",
    "        self.Education = Education\n",
    "        self.MarriageStatus = MarriageStatus\n",
    "        self.FamilyMembers = FamilyMembers\n",
    "        self.Address = Address\n",
    "        self.Email = Email\n",
    "        self.PhoneNumber = PhoneNumber\n",
    "        print(\"Setting Up The Profile...\")\n",
    "        time.sleep((2))\n",
    "        print(\"You are ready to Go...\")\n",
    "    \n",
    "    def Show_Profile(self):    \n",
    "        print(\"Profile: \"\n",
    "             \"\\nName:           \",       self.Name,\n",
    "             \"\\nLastName:       \",   self.LastName,\n",
    "             \"\\nAge:            \",        self.Age,\n",
    "             \"\\nDOB:            \",        self.DOB,\n",
    "             \"\\nProfession:     \", self.Profession,\n",
    "             \"\\nEducation:      \",  self.Education,\n",
    "             \"\\nMarriageStatus: \", self.MarriageStatus,\n",
    "             \"\\nFamilyMembers:  \",  self.FamilyMembers,\n",
    "             \"\\nAddress:        \",    self.Address,\n",
    "             \"\\nGmail:          \",      self.Email,\n",
    "             \"\\nPhoneNumber:    \",self.PhoneNumber)    \n",
    "       "
   ]
  },
  {
   "cell_type": "code",
   "execution_count": 20,
   "id": "14b5e8c0",
   "metadata": {},
   "outputs": [
    {
     "name": "stdout",
     "output_type": "stream",
     "text": [
      "Setting Up The Profile...\n",
      "You are ready to Go...\n"
     ]
    }
   ],
   "source": [
    "Vivan = ProfileSetup(\"Vivan\",\"Pathak\",11,\"02/09/2010\",\"Student\",\"4th Pass\",\"Single\",\"7\",\"E-101/1 Shivaji Nagar Bhopal\",\"pathak.vivan029@gmail.com\",6263175880)"
   ]
  },
  {
   "cell_type": "code",
   "execution_count": 21,
   "id": "4319aabf",
   "metadata": {},
   "outputs": [
    {
     "name": "stdout",
     "output_type": "stream",
     "text": [
      "Profile: \n",
      "Name:            Vivan \n",
      "LastName:        Pathak \n",
      "Age:             11 \n",
      "DOB:             02/09/2010 \n",
      "Profession:      Student \n",
      "Education:       4th Pass \n",
      "MarriageStatus:  Single \n",
      "FamilyMembers:   7 \n",
      "Address:         E-101/1 Shivaji Nagar Bhopal \n",
      "Gmail:           pathak.vivan029@gmail.com \n",
      "PhoneNumber:     6263175880\n"
     ]
    }
   ],
   "source": [
    "Vivan.Show_Profile()"
   ]
  },
  {
   "cell_type": "code",
   "execution_count": null,
   "id": "060647c7",
   "metadata": {},
   "outputs": [],
   "source": []
  }
 ],
 "metadata": {
  "kernelspec": {
   "display_name": "Python 3 (ipykernel)",
   "language": "python",
   "name": "python3"
  },
  "language_info": {
   "codemirror_mode": {
    "name": "ipython",
    "version": 3
   },
   "file_extension": ".py",
   "mimetype": "text/x-python",
   "name": "python",
   "nbconvert_exporter": "python",
   "pygments_lexer": "ipython3",
   "version": "3.9.7"
  }
 },
 "nbformat": 4,
 "nbformat_minor": 5
}
