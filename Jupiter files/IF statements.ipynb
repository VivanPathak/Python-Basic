{
 "cells": [
  {
   "cell_type": "code",
   "execution_count": 7,
   "id": "ee5c0836",
   "metadata": {},
   "outputs": [
    {
     "name": "stdout",
     "output_type": "stream",
     "text": [
      "Please enter your age here: 23\n",
      "You are eligible for this process, contact at our  help line given below , thanks for  visiting us \n"
     ]
    }
   ],
   "source": [
    "Age = int(input(\"Please enter your age here: \"))\n",
    "\n",
    "if Age <= 17:\n",
    "    print(\"you are not eligible for this process, Thanks for Visiting\")\n",
    "else: \n",
    "    print(\"You are eligible for this process, contact at our  help line given below , thanks for  visiting us \")"
   ]
  },
  {
   "cell_type": "code",
   "execution_count": 10,
   "id": "64a6f457",
   "metadata": {},
   "outputs": [
    {
     "name": "stdout",
     "output_type": "stream",
     "text": [
      "Pls Enter any Number between 1 and 5: 5\n",
      "You are a body builder a kabbadi player\n"
     ]
    }
   ],
   "source": [
    "Sports = int(input(\"Pls Enter any Number between 1 and 5: \"))\n",
    "\n",
    "if Sports == 1:\n",
    "    print(\"Your Favorutie Sports Is Football also known as Soccer\")\n",
    "elif Sports == 2:\n",
    "    print(\"Your Sports which you choose was Cricket....\")\n",
    "elif Sports == 3: \n",
    "    print(\"Your Sports Is Hockey the national game of India.\")\n",
    "elif Sports == 4: \n",
    "    print(\"Your favourit sports is in olympic the Javelin Throw\")\n",
    "elif Sports == 5:\n",
    "    print(\"You are a body builder a kabbadi player\")\n",
    "else:\n",
    "    print(\"Pls choose a number between 1-5 and get your favourite sports, thanks.\")"
   ]
  },
  {
   "cell_type": "code",
   "execution_count": null,
   "id": "3b5c5997",
   "metadata": {},
   "outputs": [],
   "source": []
  },
  {
   "cell_type": "code",
   "execution_count": null,
   "id": "80dcdf60",
   "metadata": {},
   "outputs": [],
   "source": []
  }
 ],
 "metadata": {
  "kernelspec": {
   "display_name": "Python 3 (ipykernel)",
   "language": "python",
   "name": "python3"
  },
  "language_info": {
   "codemirror_mode": {
    "name": "ipython",
    "version": 3
   },
   "file_extension": ".py",
   "mimetype": "text/x-python",
   "name": "python",
   "nbconvert_exporter": "python",
   "pygments_lexer": "ipython3",
   "version": "3.9.7"
  }
 },
 "nbformat": 4,
 "nbformat_minor": 5
}
