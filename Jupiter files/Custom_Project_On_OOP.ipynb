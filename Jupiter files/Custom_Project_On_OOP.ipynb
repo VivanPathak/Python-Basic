{
 "cells": [
  {
   "cell_type": "code",
   "execution_count": 5,
   "id": "8d3064ee",
   "metadata": {},
   "outputs": [],
   "source": [
    "#we are going to make a OOP project which will help us to understand OOP better\n",
    "import time\n",
    "\n",
    "class ProfileSetup():\n",
    "    \n",
    "    def __init__(self,Name,LastName,Age,DOB,Profession,Education,MarriageStatus,FamilyMembers,Address,Email,PhoneNumber):\n",
    "        self.Name = Name\n",
    "        self.LastName = LastName\n",
    "        self.Age = Age\n",
    "        self.DOB = DOB\n",
    "        self.Profession = Profession\n",
    "        self.Education = Education\n",
    "        self.MarriageStatus = MarriageStatus\n",
    "        self.FamilyMembers = FamilyMembers\n",
    "        self.Address = Address\n",
    "        self.Email = Email\n",
    "        self.PhoneNumber = PhoneNumber\n",
    "        print(\"Setting Up The Profile...\")\n",
    "        time.sleep((2))\n",
    "        print(\"You are ready to Go...\")\n",
    "    \n",
    "    def Show_Profile(self):    \n",
    "        print(\"Profile: \"\n",
    "             \"\\nName:           \",       self.Name,\n",
    "             \"\\nLastName:       \",   self.LastName,\n",
    "             \"\\nAge:            \",        self.Age,\n",
    "             \"\\nDOB:            \",        self.DOB,\n",
    "             \"\\nProfession:     \", self.Profession,\n",
    "             \"\\nEducation:      \",  self.Education,\n",
    "             \"\\nMarriageStatus: \", self.MarriageStatus,\n",
    "             \"\\nFamilyMembers:  \",  self.FamilyMembers,\n",
    "             \"\\nAddress:        \",    self.Address,\n",
    "             \"\\nGmail:          \",      self.Email,\n",
    "             \"\\nPhoneNumber:    \",self.PhoneNumber)   \n",
    "        \n",
    "# now we start the editing Functions for every method  \n",
    "   \n",
    "    def ChangeName(self,Edited_Name):\n",
    "        print(\"Changing The Name...\")\n",
    "        time.sleep((2))\n",
    "        print(\"Edited The Name.\")\n",
    "        self.Name = Edited_Name\n",
    "        \n",
    "    def ChangeLastName(self,Edited_LastName):\n",
    "        print(\"Changing The LastName...\")\n",
    "        time.sleep((2))\n",
    "        print(\"Edited The LastName.\")\n",
    "        self.LastName = Edited_LastName   \n",
    "        \n",
    "        \n",
    "    def ChangeAge(self,Edited_Age):\n",
    "        print(\"Changing The Age...\")\n",
    "        time.sleep((2))\n",
    "        print(\"Edited The Age.\")\n",
    "        self.Age = Edited_Age\n",
    "        \n",
    "    def ChangeDOB(self,Edited_DOB):\n",
    "        print(\"Changing The DOB...\")\n",
    "        time.sleep((2))\n",
    "        print(\"Edited The DOB.\")\n",
    "        self.DOB = Edited_DOB   \n",
    "        \n",
    "    def ChangeProfession(self,Edited_Profession):\n",
    "        print(\"Changing The Profession...\")\n",
    "        time.sleep((2))\n",
    "        print(\"Edited The Profession.\")\n",
    "        self.DOB = Edited_Profession \n",
    "        \n",
    "    def ChangeEducation(self,Edited_Education):\n",
    "        print(\"Changing The Education...\")\n",
    "        time.sleep((2))\n",
    "        print(\"Edited The Education...\")\n",
    "        self.Education = Edited_Education           \n",
    "        \n",
    "    def ChangeMarriageStatus(self,Edited_MarriageStatus):\n",
    "        print(\"Changing The MarriageStatus...\")\n",
    "        time.sleep((2))\n",
    "        print(\"Edited The MarriageStatus.\")\n",
    "        self.MarriageStatus = Edited_MarriageStatus           \n",
    "        \n",
    "    def ChangeFamilyMembers(self,Edited_FamilyMembers):\n",
    "        print(\"Changing The FamilyMembers...\")\n",
    "        time.sleep((2))\n",
    "        print(\"Edited The FamilyMember.\")\n",
    "        self.FamilyMembers =Edited_FamilyMembers \n",
    "        \n",
    "    def ChangeAddress(self,Edited_Address):\n",
    "        print(\"Changing The Address...\")\n",
    "        time.sleep((2))\n",
    "        print(\"Edited The Address.\")\n",
    "        self.Addres = Edited_Address\n",
    "        \n",
    "    def ChangeEmail(self,Edited_Email):\n",
    "        print(\"Changing The Email...\")\n",
    "        time.sleep((2))\n",
    "        print(\"Edited The Email.\")\n",
    "        self.Email = Edited_Email           \n",
    "        \n",
    "    def ChangePhoneNumber(self,Edited_PhoneNumber):\n",
    "        print(\"Changing The PhoneNumber...\")\n",
    "        time.sleep((2))\n",
    "        print(\"Edited The DOB.\")\n",
    "        self.PhoneNumber = Edited_PhoneNumber           "
   ]
  },
  {
   "cell_type": "code",
   "execution_count": 6,
   "id": "14b5e8c0",
   "metadata": {},
   "outputs": [
    {
     "name": "stdout",
     "output_type": "stream",
     "text": [
      "Setting Up The Profile...\n",
      "You are ready to Go...\n"
     ]
    }
   ],
   "source": [
    "Vivan = ProfileSetup(\"Vivan\",\"Pathak\",11,\"02/09/2010\",\"Student\",\"4th Pass\",\"Single\",\"7\",\"E-101/1 Shivaji Nagar Bhopal\",\"pathak.vivan029@gmail.com\",6263175880)"
   ]
  },
  {
   "cell_type": "code",
   "execution_count": 7,
   "id": "2a41c0fd",
   "metadata": {},
   "outputs": [
    {
     "name": "stdout",
     "output_type": "stream",
     "text": [
      "Profile: \n",
      "Name:            Vivan \n",
      "LastName:        Pathak \n",
      "Age:             11 \n",
      "DOB:             02/09/2010 \n",
      "Profession:      Student \n",
      "Education:       4th Pass \n",
      "MarriageStatus:  Single \n",
      "FamilyMembers:   7 \n",
      "Address:         E-101/1 Shivaji Nagar Bhopal \n",
      "Gmail:           pathak.vivan029@gmail.com \n",
      "PhoneNumber:     6263175880\n"
     ]
    }
   ],
   "source": [
    "Vivan.Show_Profile()"
   ]
  },
  {
   "cell_type": "code",
   "execution_count": 8,
   "id": "ed4f6482",
   "metadata": {},
   "outputs": [
    {
     "name": "stdout",
     "output_type": "stream",
     "text": [
      "Changing The PhoneNumber...\n",
      "Edited The DOB.\n"
     ]
    }
   ],
   "source": [
    "Vivan.ChangePhoneNumber(\"1773244523\")"
   ]
  },
  {
   "cell_type": "code",
   "execution_count": 10,
   "id": "eefc0df0",
   "metadata": {},
   "outputs": [
    {
     "data": {
      "text/plain": [
       "'1773244523'"
      ]
     },
     "execution_count": 10,
     "metadata": {},
     "output_type": "execute_result"
    }
   ],
   "source": [
    "Vivan.PhoneNumber"
   ]
  },
  {
   "cell_type": "code",
   "execution_count": null,
   "id": "ef7a1801",
   "metadata": {},
   "outputs": [],
   "source": []
  }
 ],
 "metadata": {
  "kernelspec": {
   "display_name": "Python 3 (ipykernel)",
   "language": "python",
   "name": "python3"
  },
  "language_info": {
   "codemirror_mode": {
    "name": "ipython",
    "version": 3
   },
   "file_extension": ".py",
   "mimetype": "text/x-python",
   "name": "python",
   "nbconvert_exporter": "python",
   "pygments_lexer": "ipython3",
   "version": "3.9.7"
  }
 },
 "nbformat": 4,
 "nbformat_minor": 5
}
