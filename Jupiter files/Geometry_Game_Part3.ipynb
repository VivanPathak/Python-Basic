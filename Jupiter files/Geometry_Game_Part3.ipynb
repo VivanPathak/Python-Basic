{
 "cells": [
  {
   "cell_type": "code",
   "execution_count": 1,
   "id": "0e35d1da",
   "metadata": {},
   "outputs": [],
   "source": [
    "class Point:\n",
    "\n",
    "    def __init__(self, x, y):\n",
    "        self.x = x\n",
    "        self.y = y\n",
    "\n",
    "    def falls_in_rectangle(self,rectangle):\n",
    "        if rectangle.lowleft.x < self.x < rectangle.upright.x and rectangle.lowleft.y < self.y < rectangle.upright.y:\n",
    "            return True\n",
    "        else:\n",
    "            return False\n",
    "\n",
    "class Rectangle:\n",
    "\n",
    "    def __init__(self, upright, lowleft):\n",
    "        self.upright = upright\n",
    "        self.lowleft = lowleft\n",
    "        \n",
    "    def area(self):\n",
    "        return(self.upright.x - self.lowleft.x) * (self.upright.y - self.lowleft.y)"
   ]
  },
  {
   "cell_type": "code",
   "execution_count": null,
   "id": "7b3886e0",
   "metadata": {},
   "outputs": [],
   "source": [
    "from random import randint\n",
    "\n",
    "rectangle = Rectangle(\n",
    "\n",
    "  Point(randint(0,9), randint(0,9)),Point(randint(10,19), randint(10,19)))"
   ]
  }
 ],
 "metadata": {
  "kernelspec": {
   "display_name": "Python 3 (ipykernel)",
   "language": "python",
   "name": "python3"
  },
  "language_info": {
   "codemirror_mode": {
    "name": "ipython",
    "version": 3
   },
   "file_extension": ".py",
   "mimetype": "text/x-python",
   "name": "python",
   "nbconvert_exporter": "python",
   "pygments_lexer": "ipython3",
   "version": "3.9.7"
  }
 },
 "nbformat": 4,
 "nbformat_minor": 5
}
