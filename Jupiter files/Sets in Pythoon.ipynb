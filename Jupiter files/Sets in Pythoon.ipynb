{
 "cells": [
  {
   "cell_type": "code",
   "execution_count": 1,
   "id": "ac455d89",
   "metadata": {},
   "outputs": [],
   "source": [
    "Set_1 = {1,2,3,4,5}"
   ]
  },
  {
   "cell_type": "code",
   "execution_count": 2,
   "id": "d025e5ee",
   "metadata": {},
   "outputs": [],
   "source": [
    "Set_2 = {\"W\",\"X\",\"Y\",\"Z\"}"
   ]
  },
  {
   "cell_type": "code",
   "execution_count": 3,
   "id": "e478ddf1",
   "metadata": {},
   "outputs": [],
   "source": [
    "Set_3 = {\"Apple\",\"Banana\",\"Melon\"}"
   ]
  },
  {
   "cell_type": "code",
   "execution_count": 4,
   "id": "8a76bf4a",
   "metadata": {},
   "outputs": [],
   "source": [
    "Set_4 = {}\n"
   ]
  },
  {
   "cell_type": "code",
   "execution_count": 5,
   "id": "278080e8",
   "metadata": {},
   "outputs": [],
   "source": [
    "Set_5 = set(\"Python\")"
   ]
  },
  {
   "cell_type": "code",
   "execution_count": 6,
   "id": "01e44a50",
   "metadata": {},
   "outputs": [
    {
     "data": {
      "text/plain": [
       "{'P', 'h', 'n', 'o', 't', 'y'}"
      ]
     },
     "execution_count": 6,
     "metadata": {},
     "output_type": "execute_result"
    }
   ],
   "source": [
    "Set_5"
   ]
  },
  {
   "cell_type": "code",
   "execution_count": 7,
   "id": "7d0f3553",
   "metadata": {},
   "outputs": [],
   "source": [
    "Set_6 = set(\"VIVAN\")"
   ]
  },
  {
   "cell_type": "code",
   "execution_count": 8,
   "id": "9a47dcdc",
   "metadata": {},
   "outputs": [
    {
     "data": {
      "text/plain": [
       "{'A', 'I', 'N', 'V'}"
      ]
     },
     "execution_count": 8,
     "metadata": {},
     "output_type": "execute_result"
    }
   ],
   "source": [
    "Set_6"
   ]
  },
  {
   "cell_type": "code",
   "execution_count": 9,
   "id": "44ff2426",
   "metadata": {},
   "outputs": [
    {
     "data": {
      "text/plain": [
       "{1, 2, 3, 4, 5, 'W', 'X', 'Y', 'Z'}"
      ]
     },
     "execution_count": 9,
     "metadata": {},
     "output_type": "execute_result"
    }
   ],
   "source": [
    "Set_1.union(Set_2)"
   ]
  },
  {
   "cell_type": "code",
   "execution_count": 10,
   "id": "549581ac",
   "metadata": {},
   "outputs": [],
   "source": [
    "Set_7 = {1,23,45,67,89,98,65,1234,765,87}\n",
    "Set_8 = {23,12,45,23,56,345,23456,9876,12,56,87,236,8,23,45,67}    \n"
   ]
  },
  {
   "cell_type": "code",
   "execution_count": 11,
   "id": "a162fb57",
   "metadata": {},
   "outputs": [
    {
     "data": {
      "text/plain": [
       "{23, 45, 67, 87}"
      ]
     },
     "execution_count": 11,
     "metadata": {},
     "output_type": "execute_result"
    }
   ],
   "source": [
    "Set_7.intersection(Set_8)"
   ]
  },
  {
   "cell_type": "code",
   "execution_count": 12,
   "id": "9d6c1b87",
   "metadata": {},
   "outputs": [
    {
     "data": {
      "text/plain": [
       "{8, 12, 23, 45, 56, 67, 87, 236, 345, 9876, 23456}"
      ]
     },
     "execution_count": 12,
     "metadata": {},
     "output_type": "execute_result"
    }
   ],
   "source": [
    "Set_8"
   ]
  },
  {
   "cell_type": "code",
   "execution_count": 13,
   "id": "2f53b13b",
   "metadata": {},
   "outputs": [],
   "source": [
    "Set_7.intersection_update(Set_8)"
   ]
  },
  {
   "cell_type": "code",
   "execution_count": 14,
   "id": "b1f05c74",
   "metadata": {},
   "outputs": [
    {
     "data": {
      "text/plain": [
       "{23, 45, 67, 87}"
      ]
     },
     "execution_count": 14,
     "metadata": {},
     "output_type": "execute_result"
    }
   ],
   "source": [
    "Set_7"
   ]
  },
  {
   "cell_type": "code",
   "execution_count": 15,
   "id": "772f4c1a",
   "metadata": {},
   "outputs": [],
   "source": [
    "Set_7 = {1,23,45,67,89,98,65,1234,765,87}\n",
    "Set_8 = {23,12,45,23,56,345,23456,9876,12,56,87,236,8,23,45,67}    "
   ]
  },
  {
   "cell_type": "code",
   "execution_count": 16,
   "id": "e1097862",
   "metadata": {},
   "outputs": [
    {
     "data": {
      "text/plain": [
       "{1, 65, 89, 98, 765, 1234}"
      ]
     },
     "execution_count": 16,
     "metadata": {},
     "output_type": "execute_result"
    }
   ],
   "source": [
    "Set_7.difference(Set_8)"
   ]
  },
  {
   "cell_type": "code",
   "execution_count": 17,
   "id": "b376f9bc",
   "metadata": {},
   "outputs": [],
   "source": [
    "Set_7.difference_update(Set_8)"
   ]
  },
  {
   "cell_type": "code",
   "execution_count": 18,
   "id": "dcbaf97e",
   "metadata": {},
   "outputs": [
    {
     "data": {
      "text/plain": [
       "{1, 65, 89, 98, 765, 1234}"
      ]
     },
     "execution_count": 18,
     "metadata": {},
     "output_type": "execute_result"
    }
   ],
   "source": [
    "Set_7"
   ]
  },
  {
   "cell_type": "code",
   "execution_count": 19,
   "id": "3ada0f5b",
   "metadata": {},
   "outputs": [
    {
     "data": {
      "text/plain": [
       "{1, 2, 3, 4, 5}"
      ]
     },
     "execution_count": 19,
     "metadata": {},
     "output_type": "execute_result"
    }
   ],
   "source": [
    "Set_1\n"
   ]
  },
  {
   "cell_type": "code",
   "execution_count": 20,
   "id": "2aaf277a",
   "metadata": {},
   "outputs": [],
   "source": [
    "Set_1.add(\"A se aadha\")"
   ]
  },
  {
   "cell_type": "code",
   "execution_count": 21,
   "id": "34fcdf12",
   "metadata": {},
   "outputs": [
    {
     "data": {
      "text/plain": [
       "{1, 2, 3, 4, 5, 'A se aadha'}"
      ]
     },
     "execution_count": 21,
     "metadata": {},
     "output_type": "execute_result"
    }
   ],
   "source": [
    "Set_1"
   ]
  },
  {
   "cell_type": "code",
   "execution_count": 22,
   "id": "5d919445",
   "metadata": {},
   "outputs": [
    {
     "data": {
      "text/plain": [
       "{'W', 'X', 'Y', 'Z'}"
      ]
     },
     "execution_count": 22,
     "metadata": {},
     "output_type": "execute_result"
    }
   ],
   "source": [
    "Set_2"
   ]
  },
  {
   "cell_type": "code",
   "execution_count": 23,
   "id": "185c39f7",
   "metadata": {},
   "outputs": [],
   "source": [
    "Set_2.remove(\"W\")"
   ]
  },
  {
   "cell_type": "code",
   "execution_count": 24,
   "id": "5a377791",
   "metadata": {},
   "outputs": [
    {
     "data": {
      "text/plain": [
       "{'X', 'Y', 'Z'}"
      ]
     },
     "execution_count": 24,
     "metadata": {},
     "output_type": "execute_result"
    }
   ],
   "source": [
    "Set_2"
   ]
  },
  {
   "cell_type": "code",
   "execution_count": 25,
   "id": "a6928815",
   "metadata": {},
   "outputs": [],
   "source": [
    "Set_11 = {\"abc\",\"def\",\"ghi\",\"jkl\",\"mno\",\"pqr\",\"stu\",\"vwx\"}\n",
    "Set_12 = {\"yz\"}"
   ]
  },
  {
   "cell_type": "code",
   "execution_count": 26,
   "id": "799aab77",
   "metadata": {},
   "outputs": [],
   "source": [
    "Set_11.update(Set_12)"
   ]
  },
  {
   "cell_type": "code",
   "execution_count": 27,
   "id": "4109714c",
   "metadata": {},
   "outputs": [
    {
     "data": {
      "text/plain": [
       "{'abc', 'def', 'ghi', 'jkl', 'mno', 'pqr', 'stu', 'vwx', 'yz'}"
      ]
     },
     "execution_count": 27,
     "metadata": {},
     "output_type": "execute_result"
    }
   ],
   "source": [
    "Set_11"
   ]
  },
  {
   "cell_type": "code",
   "execution_count": null,
   "id": "9982f767",
   "metadata": {},
   "outputs": [],
   "source": []
  }
 ],
 "metadata": {
  "kernelspec": {
   "display_name": "Python 3 (ipykernel)",
   "language": "python",
   "name": "python3"
  },
  "language_info": {
   "codemirror_mode": {
    "name": "ipython",
    "version": 3
   },
   "file_extension": ".py",
   "mimetype": "text/x-python",
   "name": "python",
   "nbconvert_exporter": "python",
   "pygments_lexer": "ipython3",
   "version": "3.9.7"
  }
 },
 "nbformat": 4,
 "nbformat_minor": 5
}
