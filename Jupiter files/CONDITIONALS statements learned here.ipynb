{
 "cells": [
  {
   "cell_type": "code",
   "execution_count": 5,
   "id": "be40f582",
   "metadata": {},
   "outputs": [
    {
     "name": "stdout",
     "output_type": "stream",
     "text": [
      "Pls enter your age here: 10\n",
      "Your age should be more than 18 to enter\n"
     ]
    }
   ],
   "source": [
    "age = int(input(\"Pls enter your age here: \"))\n",
    "if age < 18:\n",
    "    print(\"Your age should be more than 18 to enter\")"
   ]
  },
  {
   "cell_type": "code",
   "execution_count": 8,
   "id": "3f4ffad4",
   "metadata": {},
   "outputs": [
    {
     "name": "stdout",
     "output_type": "stream",
     "text": [
      "Pls enter any no. you want to spin: 2\n"
     ]
    }
   ],
   "source": [
    "Number = int(input(\"Pls enter any no. you want to spin: \"))\n",
    "\n",
    "if Number > 10:\n",
    "    print(\"The no. should be less than 10 to spin. \")"
   ]
  },
  {
   "cell_type": "code",
   "execution_count": 13,
   "id": "1d93bbec",
   "metadata": {},
   "outputs": [
    {
     "name": "stdout",
     "output_type": "stream",
     "text": [
      "Pls enter your age here: 25\n",
      "Your welcome..\n"
     ]
    }
   ],
   "source": [
    "age = int(input(\"Pls enter your age here: \"))\n",
    "if age < 18: \n",
    "    print(\"You are not eligible to fill this form \")\n",
    "else:\n",
    "        \n",
    "    print(\"Your welcome..\")"
   ]
  },
  {
   "cell_type": "code",
   "execution_count": 14,
   "id": "7dcfd468",
   "metadata": {},
   "outputs": [
    {
     "name": "stdout",
     "output_type": "stream",
     "text": [
      "Pls enter any no. you want to spin: 5\n",
      "wait until the spin is over.\n"
     ]
    }
   ],
   "source": [
    "Number = int(input(\"Pls enter any no. you want to spin: \"))\n",
    "\n",
    "if Number > 10:\n",
    "    print(\"The no. should be less than 10 to spin. \")\n",
    "else:\n",
    "    \n",
    "    print(\"wait until the spin is over.\")"
   ]
  },
  {
   "cell_type": "code",
   "execution_count": 26,
   "id": "fc1f8cf1",
   "metadata": {},
   "outputs": [
    {
     "name": "stdout",
     "output_type": "stream",
     "text": [
      "Pls enter a no. between 1-5: 3\n",
      "You should have a tag #tesla\n"
     ]
    }
   ],
   "source": [
    "model = int(input(\"Pls enter a no. between 1-5: \"))\n",
    "\n",
    "if model == 1:\n",
    "    print(\"You choose one of the fastest BUGATI\")\n",
    "elif model == 2: \n",
    "    print(\"you choose one of the expensive car LAMBORGINI\")\n",
    "elif model == 3:\n",
    "    print(\"You should have a tag #tesla\")\n",
    "elif model == 4:\n",
    "    print(\"You choose longest car limousine\")\n",
    "elif model == 5:\n",
    "    print(\"You won 10,000 dollars and you can buy any car..!\")\n",
    "else:\n",
    "    print(\"invalid no.\")\n",
    "\n",
    "    "
   ]
  },
  {
   "cell_type": "code",
   "execution_count": null,
   "id": "cfeda65d",
   "metadata": {},
   "outputs": [],
   "source": []
  }
 ],
 "metadata": {
  "kernelspec": {
   "display_name": "Python 3",
   "language": "python",
   "name": "python3"
  },
  "language_info": {
   "codemirror_mode": {
    "name": "ipython",
    "version": 3
   },
   "file_extension": ".py",
   "mimetype": "text/x-python",
   "name": "python",
   "nbconvert_exporter": "python",
   "pygments_lexer": "ipython3",
   "version": "3.8.8"
  }
 },
 "nbformat": 4,
 "nbformat_minor": 5
}
