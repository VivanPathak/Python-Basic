{
 "cells": [
  {
   "cell_type": "code",
   "execution_count": 6,
   "id": "f7810a23",
   "metadata": {},
   "outputs": [
    {
     "name": "stdout",
     "output_type": "stream",
     "text": [
      "Enter Your X value here: 6\n",
      "Enter Your Y value here: 11\n",
      "Your Point Was In The Rectangle???:  False\n"
     ]
    }
   ],
   "source": [
    "class Point:\n",
    "\n",
    "    def __init__(self, x, y):\n",
    "        self.x = x\n",
    "        self.y = y\n",
    "\n",
    "    def falls_in_rectangle(self, rectangle):\n",
    "        if rectangle.lowleft.x < self.x < rectangle.upright.x and rectangle.lowleft.y < self.y < rectangle.upright.y:\n",
    "            return True\n",
    "        else:\n",
    "            return False\n",
    "\n",
    "\n",
    "class Rectangle:\n",
    "\n",
    "    def __init__(self, upright, lowleft):\n",
    "        self.upright = upright\n",
    "        self.lowleft = lowleft\n",
    "\n",
    "from random import randint\n",
    "import time\n",
    "\n",
    "rectangle = Rectangle(\n",
    "\n",
    "Point(randint(0,9),randint(0,9)),\n",
    "Point(randint(10,19),randint(10,19)))\n",
    "\n",
    "\n",
    "User_point = Point(int(input(\"Enter Your X value here: \")), int(input(\"Enter Your Y value here: \")))\n",
    "\n",
    "Answer= print(\"Your Point Was In The Rectangle???: \", User_point.falls_in_rectangle(rectangle))"
   ]
  },
  {
   "cell_type": "code",
   "execution_count": 16,
   "id": "d863ad02",
   "metadata": {},
   "outputs": [
    {
     "name": "stdout",
     "output_type": "stream",
     "text": [
      "Enter Your X value here: 3\n",
      "Enter Your Y value here: 24\n",
      "Your Point Was In The Rectangle???:  False\n"
     ]
    }
   ],
   "source": [
    "class Point:\n",
    "\n",
    "    def __init__(self, x, y):\n",
    "        self.x = x\n",
    "        self.y = y\n",
    "\n",
    "    def falls_in_rectangle(self, rectangle):\n",
    "        if rectangle.lowleft.x < self.x < rectangle.upright.x and rectangle.lowleft.y < self.y < rectangle.upright.y:\n",
    "            return True\n",
    "        else:\n",
    "            return False\n",
    "\n",
    "\n",
    "class Rectangle:\n",
    "\n",
    "    def __init__(self, upright, lowleft):\n",
    "        self.upright = upright\n",
    "        self.lowleft = lowleft\n",
    "\n",
    "from random import randint\n",
    "import time\n",
    "\n",
    "rectangle = Rectangle(\n",
    "\n",
    "Point(randint(0,9),randint(0,9)),\n",
    "Point(randint(10,19),randint(10,19)))\n",
    "\n",
    "\n",
    "User_point = Point(int(input(\"Enter Your X value here: \")), int(input(\"Enter Your Y value here: \")))\n",
    "\n",
    "Answer= print(\"Your Point Was In The Rectangle???: \", User_point.falls_in_rectangle(rectangle))"
   ]
  },
  {
   "cell_type": "code",
   "execution_count": null,
   "id": "cea1b185",
   "metadata": {},
   "outputs": [],
   "source": []
  }
 ],
 "metadata": {
  "kernelspec": {
   "display_name": "Python 3 (ipykernel)",
   "language": "python",
   "name": "python3"
  },
  "language_info": {
   "codemirror_mode": {
    "name": "ipython",
    "version": 3
   },
   "file_extension": ".py",
   "mimetype": "text/x-python",
   "name": "python",
   "nbconvert_exporter": "python",
   "pygments_lexer": "ipython3",
   "version": "3.9.7"
  }
 },
 "nbformat": 4,
 "nbformat_minor": 5
}
