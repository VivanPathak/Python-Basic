{
 "cells": [
  {
   "cell_type": "code",
   "execution_count": 1,
   "id": "e366ebdc",
   "metadata": {},
   "outputs": [],
   "source": [
    "import time\n",
    "class Principal():\n",
    "    def __init__(self, Name, Last_Name, Age, Gender, DOB, School_Name):\n",
    "        self.Name = Name\n",
    "        self.Last_Name = Last_Name\n",
    "        self.Age = Age\n",
    "        self.Gender = Gender\n",
    "        self.DOB = DOB\n",
    "        self.School_Name = School_Name\n",
    "        print(\"Fetching Details...\")\n",
    "        time.sleep((2))\n",
    "        print(\"Done...\")\n",
    "        \n",
    "        \n",
    "    def Show_Info(self):\n",
    "        print(\"Information: \"\n",
    "             \"\\nName: \", self.Name,\n",
    "             \"\\nLast_Name: \", self.Last_Name,\n",
    "             \"\\nAge: \", self.Age,\n",
    "             \"\\nGender: \", self.Gender,\n",
    "             \"\\nDOB: \", self.DOB, \n",
    "             \"\\nSchool_Name: \", self.School_Name)"
   ]
  },
  {
   "cell_type": "code",
   "execution_count": 2,
   "id": "82d53f48",
   "metadata": {},
   "outputs": [],
   "source": [
    "class Teacher(Principal):\n",
    "    pass"
   ]
  },
  {
   "cell_type": "code",
   "execution_count": 3,
   "id": "fdd108a4",
   "metadata": {},
   "outputs": [],
   "source": [
    "class Student(Principal):\n",
    "    pass"
   ]
  },
  {
   "cell_type": "code",
   "execution_count": 4,
   "id": "5a6fa060",
   "metadata": {},
   "outputs": [
    {
     "name": "stdout",
     "output_type": "stream",
     "text": [
      "Fetching Details...\n",
      "Done...\n"
     ]
    }
   ],
   "source": [
    "Principal_1 = Principal(\"Sunita\",\"Palak\",\"48\",\"Female\",\"09/08/1974\",\"SPS\")"
   ]
  },
  {
   "cell_type": "code",
   "execution_count": 5,
   "id": "9d0bec3e",
   "metadata": {},
   "outputs": [
    {
     "data": {
      "text/plain": [
       "'09/08/1974'"
      ]
     },
     "execution_count": 5,
     "metadata": {},
     "output_type": "execute_result"
    }
   ],
   "source": [
    "Principal_1.DOB"
   ]
  },
  {
   "cell_type": "code",
   "execution_count": 6,
   "id": "a20a2cfa",
   "metadata": {},
   "outputs": [
    {
     "name": "stdout",
     "output_type": "stream",
     "text": [
      "Information: \n",
      "Name:  Sunita \n",
      "Last_Name:  Palak \n",
      "Age:  48 \n",
      "Gender:  Female \n",
      "DOB:  09/08/1974 \n",
      "School_Name:  SPS\n"
     ]
    }
   ],
   "source": [
    "Principal_1.Show_Info()"
   ]
  },
  {
   "cell_type": "code",
   "execution_count": 7,
   "id": "47a5268f",
   "metadata": {},
   "outputs": [
    {
     "name": "stdout",
     "output_type": "stream",
     "text": [
      "Fetching Details...\n",
      "Done...\n"
     ]
    }
   ],
   "source": [
    "Teacher_2 = Teacher(\"Sangita\",\"Tiwari\",\"50\",\"Female\",\"07/12/1972\",\"DPS\")"
   ]
  },
  {
   "cell_type": "code",
   "execution_count": 8,
   "id": "6cb14630",
   "metadata": {},
   "outputs": [
    {
     "data": {
      "text/plain": [
       "'Tiwari'"
      ]
     },
     "execution_count": 8,
     "metadata": {},
     "output_type": "execute_result"
    }
   ],
   "source": [
    "Teacher_2.Last_Name"
   ]
  },
  {
   "cell_type": "code",
   "execution_count": 9,
   "id": "2c983f64",
   "metadata": {},
   "outputs": [
    {
     "name": "stdout",
     "output_type": "stream",
     "text": [
      "Information: \n",
      "Name:  Sangita \n",
      "Last_Name:  Tiwari \n",
      "Age:  50 \n",
      "Gender:  Female \n",
      "DOB:  07/12/1972 \n",
      "School_Name:  DPS\n"
     ]
    }
   ],
   "source": [
    "Teacher_2.Show_Info()"
   ]
  },
  {
   "cell_type": "code",
   "execution_count": 10,
   "id": "abe0b3d6",
   "metadata": {},
   "outputs": [],
   "source": [
    "class Student(Principal):\n",
    "    def Change_School_Name(self,new_School_Name):\n",
    "        print(\"Changing the School_Name...\")\n",
    "        time.sleep((2))\n",
    "        print(\"Done...\")\n",
    "        self.School_Name = new_School_Name "
   ]
  },
  {
   "cell_type": "code",
   "execution_count": 11,
   "id": "de642985",
   "metadata": {},
   "outputs": [
    {
     "name": "stdout",
     "output_type": "stream",
     "text": [
      "Fetching Details...\n",
      "Done...\n"
     ]
    }
   ],
   "source": [
    "Student_1 = Student(\"Vivan\",\"Pathak\",\"11\",\"Male\",\"02/09/2010\",\"Sps\")"
   ]
  },
  {
   "cell_type": "code",
   "execution_count": 12,
   "id": "cf96810d",
   "metadata": {},
   "outputs": [
    {
     "name": "stdout",
     "output_type": "stream",
     "text": [
      "Information: \n",
      "Name:  Vivan \n",
      "Last_Name:  Pathak \n",
      "Age:  11 \n",
      "Gender:  Male \n",
      "DOB:  02/09/2010 \n",
      "School_Name:  Sps\n"
     ]
    }
   ],
   "source": [
    "Student_1.Show_Info()"
   ]
  },
  {
   "cell_type": "code",
   "execution_count": 13,
   "id": "8d76c01e",
   "metadata": {},
   "outputs": [
    {
     "name": "stdout",
     "output_type": "stream",
     "text": [
      "Changing the School_Name...\n",
      "Done...\n"
     ]
    }
   ],
   "source": [
    "Student_1.Change_School_Name(\"DPS\")"
   ]
  },
  {
   "cell_type": "code",
   "execution_count": 14,
   "id": "4ae6db46",
   "metadata": {},
   "outputs": [
    {
     "name": "stdout",
     "output_type": "stream",
     "text": [
      "Information: \n",
      "Name:  Vivan \n",
      "Last_Name:  Pathak \n",
      "Age:  11 \n",
      "Gender:  Male \n",
      "DOB:  02/09/2010 \n",
      "School_Name:  DPS\n"
     ]
    }
   ],
   "source": [
    "Student_1.Show_Info()\n"
   ]
  },
  {
   "cell_type": "code",
   "execution_count": null,
   "id": "91d08f27",
   "metadata": {},
   "outputs": [],
   "source": []
  }
 ],
 "metadata": {
  "kernelspec": {
   "display_name": "Python 3 (ipykernel)",
   "language": "python",
   "name": "python3"
  },
  "language_info": {
   "codemirror_mode": {
    "name": "ipython",
    "version": 3
   },
   "file_extension": ".py",
   "mimetype": "text/x-python",
   "name": "python",
   "nbconvert_exporter": "python",
   "pygments_lexer": "ipython3",
   "version": "3.9.7"
  }
 },
 "nbformat": 4,
 "nbformat_minor": 5
}
