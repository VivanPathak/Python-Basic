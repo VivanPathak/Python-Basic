{
 "cells": [
  {
   "cell_type": "code",
   "execution_count": 6,
   "id": "9a15b857",
   "metadata": {},
   "outputs": [],
   "source": [
    "class car():\n",
    "    def __init__(self,Brand,Model,Colour,Max_Speed,Starting_Price):\n",
    "        self.Brand = Brand\n",
    "        self.Model = Model\n",
    "        self.Colour = Colour\n",
    "        self.Max_Speed = Max_Speed\n",
    "        self.Starting_Price = Starting_Price"
   ]
  },
  {
   "cell_type": "code",
   "execution_count": 7,
   "id": "f2183d03",
   "metadata": {},
   "outputs": [],
   "source": [
    "Car_1 = car(\"Ferrari\",\"Ferrari 812\",\"Red\",\"300kmph\",\"10,00,000 Lakh Rs.\")"
   ]
  },
  {
   "cell_type": "code",
   "execution_count": 9,
   "id": "5a3b3815",
   "metadata": {},
   "outputs": [
    {
     "data": {
      "text/plain": [
       "'Ferrari 812'"
      ]
     },
     "execution_count": 9,
     "metadata": {},
     "output_type": "execute_result"
    }
   ],
   "source": [
    "Car_1.Model"
   ]
  },
  {
   "cell_type": "code",
   "execution_count": 10,
   "id": "9a67d244",
   "metadata": {},
   "outputs": [
    {
     "data": {
      "text/plain": [
       "'300kmph'"
      ]
     },
     "execution_count": 10,
     "metadata": {},
     "output_type": "execute_result"
    }
   ],
   "source": [
    "Car_1.Max_Speed"
   ]
  }
 ],
 "metadata": {
  "kernelspec": {
   "display_name": "Python 3 (ipykernel)",
   "language": "python",
   "name": "python3"
  },
  "language_info": {
   "codemirror_mode": {
    "name": "ipython",
    "version": 3
   },
   "file_extension": ".py",
   "mimetype": "text/x-python",
   "name": "python",
   "nbconvert_exporter": "python",
   "pygments_lexer": "ipython3",
   "version": "3.9.7"
  }
 },
 "nbformat": 4,
 "nbformat_minor": 5
}
