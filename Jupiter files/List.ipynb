{
 "cells": [
  {
   "cell_type": "code",
   "execution_count": 1,
   "id": "deeb9520",
   "metadata": {},
   "outputs": [],
   "source": [
    "List = [1,2,3,4,5,6,7,8,9,10]"
   ]
  },
  {
   "cell_type": "code",
   "execution_count": 2,
   "id": "36ddf1a3",
   "metadata": {},
   "outputs": [],
   "source": [
    "My_List = [\"Apple\",\"Bannana\",\"Oranges\"]"
   ]
  },
  {
   "cell_type": "code",
   "execution_count": 3,
   "id": "156942d2",
   "metadata": {},
   "outputs": [],
   "source": [
    "My2_List = [\"Apple\",1]"
   ]
  },
  {
   "cell_type": "code",
   "execution_count": 4,
   "id": "db5500af",
   "metadata": {},
   "outputs": [],
   "source": [
    "String = \"Hello Vivan Pathak\""
   ]
  },
  {
   "cell_type": "code",
   "execution_count": 5,
   "id": "7351579b",
   "metadata": {},
   "outputs": [],
   "source": [
    "S_List=list(String)"
   ]
  },
  {
   "cell_type": "code",
   "execution_count": 6,
   "id": "5c7fc91e",
   "metadata": {},
   "outputs": [
    {
     "data": {
      "text/plain": [
       "['H',\n",
       " 'e',\n",
       " 'l',\n",
       " 'l',\n",
       " 'o',\n",
       " ' ',\n",
       " 'V',\n",
       " 'i',\n",
       " 'v',\n",
       " 'a',\n",
       " 'n',\n",
       " ' ',\n",
       " 'P',\n",
       " 'a',\n",
       " 't',\n",
       " 'h',\n",
       " 'a',\n",
       " 'k']"
      ]
     },
     "execution_count": 6,
     "metadata": {},
     "output_type": "execute_result"
    }
   ],
   "source": [
    "S_List"
   ]
  },
  {
   "cell_type": "code",
   "execution_count": 7,
   "id": "c256e75e",
   "metadata": {},
   "outputs": [
    {
     "data": {
      "text/plain": [
       "[1, 2, 3, 4, 5, 6, 7, 8, 9, 10]"
      ]
     },
     "execution_count": 7,
     "metadata": {},
     "output_type": "execute_result"
    }
   ],
   "source": [
    "List"
   ]
  },
  {
   "cell_type": "code",
   "execution_count": 8,
   "id": "81f98954",
   "metadata": {},
   "outputs": [
    {
     "data": {
      "text/plain": [
       "3"
      ]
     },
     "execution_count": 8,
     "metadata": {},
     "output_type": "execute_result"
    }
   ],
   "source": [
    "List[2]"
   ]
  },
  {
   "cell_type": "code",
   "execution_count": 9,
   "id": "21513be7",
   "metadata": {},
   "outputs": [
    {
     "data": {
      "text/plain": [
       "6"
      ]
     },
     "execution_count": 9,
     "metadata": {},
     "output_type": "execute_result"
    }
   ],
   "source": [
    "List[5]"
   ]
  },
  {
   "cell_type": "code",
   "execution_count": 10,
   "id": "3d15030f",
   "metadata": {},
   "outputs": [
    {
     "data": {
      "text/plain": [
       "[2, 3, 4, 5]"
      ]
     },
     "execution_count": 10,
     "metadata": {},
     "output_type": "execute_result"
    }
   ],
   "source": [
    "List[1:5]"
   ]
  },
  {
   "cell_type": "code",
   "execution_count": 11,
   "id": "6298aef7",
   "metadata": {},
   "outputs": [],
   "source": [
    "List[0] = 11"
   ]
  },
  {
   "cell_type": "code",
   "execution_count": 12,
   "id": "6410b8c3",
   "metadata": {},
   "outputs": [
    {
     "data": {
      "text/plain": [
       "[11, 2, 3, 4, 5, 6, 7, 8, 9, 10]"
      ]
     },
     "execution_count": 12,
     "metadata": {},
     "output_type": "execute_result"
    }
   ],
   "source": [
    "List"
   ]
  },
  {
   "cell_type": "code",
   "execution_count": 13,
   "id": "bf9b0428",
   "metadata": {},
   "outputs": [],
   "source": [
    "del List[8]"
   ]
  },
  {
   "cell_type": "code",
   "execution_count": 14,
   "id": "c3ca6814",
   "metadata": {},
   "outputs": [
    {
     "data": {
      "text/plain": [
       "[11, 2, 3, 4, 5, 6, 7, 8, 10]"
      ]
     },
     "execution_count": 14,
     "metadata": {},
     "output_type": "execute_result"
    }
   ],
   "source": [
    "List"
   ]
  },
  {
   "cell_type": "code",
   "execution_count": 15,
   "id": "828d72b9",
   "metadata": {},
   "outputs": [
    {
     "data": {
      "text/plain": [
       "'Oranges'"
      ]
     },
     "execution_count": 15,
     "metadata": {},
     "output_type": "execute_result"
    }
   ],
   "source": [
    "My_List[2]"
   ]
  },
  {
   "cell_type": "code",
   "execution_count": 16,
   "id": "acae1660",
   "metadata": {},
   "outputs": [],
   "source": [
    "My_List[1] = \"Pears\""
   ]
  },
  {
   "cell_type": "code",
   "execution_count": 17,
   "id": "7801a9dd",
   "metadata": {},
   "outputs": [
    {
     "data": {
      "text/plain": [
       "['Apple', 'Pears', 'Oranges']"
      ]
     },
     "execution_count": 17,
     "metadata": {},
     "output_type": "execute_result"
    }
   ],
   "source": [
    "My_List"
   ]
  },
  {
   "cell_type": "code",
   "execution_count": 18,
   "id": "083ab0c7",
   "metadata": {},
   "outputs": [
    {
     "data": {
      "text/plain": [
       "['Apple']"
      ]
     },
     "execution_count": 18,
     "metadata": {},
     "output_type": "execute_result"
    }
   ],
   "source": [
    "My_List[0:1]"
   ]
  }
 ],
 "metadata": {
  "kernelspec": {
   "display_name": "Python 3 (ipykernel)",
   "language": "python",
   "name": "python3"
  },
  "language_info": {
   "codemirror_mode": {
    "name": "ipython",
    "version": 3
   },
   "file_extension": ".py",
   "mimetype": "text/x-python",
   "name": "python",
   "nbconvert_exporter": "python",
   "pygments_lexer": "ipython3",
   "version": "3.9.7"
  }
 },
 "nbformat": 4,
 "nbformat_minor": 5
}
