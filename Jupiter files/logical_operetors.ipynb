{
 "cells": [
  {
   "cell_type": "code",
   "execution_count": 2,
   "id": "37ba66ae",
   "metadata": {},
   "outputs": [
    {
     "data": {
      "text/plain": [
       "False"
      ]
     },
     "execution_count": 2,
     "metadata": {},
     "output_type": "execute_result"
    }
   ],
   "source": [
    "\"John\" == \"Vedi\""
   ]
  },
  {
   "cell_type": "code",
   "execution_count": 3,
   "id": "ce98ff61",
   "metadata": {},
   "outputs": [
    {
     "data": {
      "text/plain": [
       "True"
      ]
     },
     "execution_count": 3,
     "metadata": {},
     "output_type": "execute_result"
    }
   ],
   "source": [
    "\"John\" == \"John\""
   ]
  },
  {
   "cell_type": "code",
   "execution_count": 4,
   "id": "54c8fd36",
   "metadata": {},
   "outputs": [
    {
     "data": {
      "text/plain": [
       "True"
      ]
     },
     "execution_count": 4,
     "metadata": {},
     "output_type": "execute_result"
    }
   ],
   "source": [
    "1+2 == 1+2"
   ]
  },
  {
   "cell_type": "code",
   "execution_count": 5,
   "id": "14be1091",
   "metadata": {},
   "outputs": [
    {
     "data": {
      "text/plain": [
       "False"
      ]
     },
     "execution_count": 5,
     "metadata": {},
     "output_type": "execute_result"
    }
   ],
   "source": [
    "3 == 19"
   ]
  },
  {
   "cell_type": "code",
   "execution_count": 6,
   "id": "a6cbd0dd",
   "metadata": {},
   "outputs": [
    {
     "data": {
      "text/plain": [
       "False"
      ]
     },
     "execution_count": 6,
     "metadata": {},
     "output_type": "execute_result"
    }
   ],
   "source": [
    " \"john\" != \"john\""
   ]
  },
  {
   "cell_type": "code",
   "execution_count": 7,
   "id": "509a04f7",
   "metadata": {},
   "outputs": [
    {
     "data": {
      "text/plain": [
       "True"
      ]
     },
     "execution_count": 7,
     "metadata": {},
     "output_type": "execute_result"
    }
   ],
   "source": [
    "1234567890 != 987"
   ]
  },
  {
   "cell_type": "code",
   "execution_count": 8,
   "id": "1cae85b6",
   "metadata": {},
   "outputs": [
    {
     "data": {
      "text/plain": [
       "True"
      ]
     },
     "execution_count": 8,
     "metadata": {},
     "output_type": "execute_result"
    }
   ],
   "source": [
    "\"john\" != 12"
   ]
  },
  {
   "cell_type": "code",
   "execution_count": 9,
   "id": "cc48d1c9",
   "metadata": {},
   "outputs": [
    {
     "data": {
      "text/plain": [
       "False"
      ]
     },
     "execution_count": 9,
     "metadata": {},
     "output_type": "execute_result"
    }
   ],
   "source": [
    "\"John\" < \"John\""
   ]
  },
  {
   "cell_type": "code",
   "execution_count": 10,
   "id": "644dc86a",
   "metadata": {},
   "outputs": [
    {
     "data": {
      "text/plain": [
       "True"
      ]
     },
     "execution_count": 10,
     "metadata": {},
     "output_type": "execute_result"
    }
   ],
   "source": [
    "\"John\" < \"zebra\""
   ]
  },
  {
   "cell_type": "code",
   "execution_count": 11,
   "id": "cd9308f2",
   "metadata": {},
   "outputs": [
    {
     "data": {
      "text/plain": [
       "False"
      ]
     },
     "execution_count": 11,
     "metadata": {},
     "output_type": "execute_result"
    }
   ],
   "source": [
    "123 < 12"
   ]
  },
  {
   "cell_type": "code",
   "execution_count": 17,
   "id": "0088b1c0",
   "metadata": {},
   "outputs": [
    {
     "data": {
      "text/plain": [
       "True"
      ]
     },
     "execution_count": 17,
     "metadata": {},
     "output_type": "execute_result"
    }
   ],
   "source": [
    "123<1234"
   ]
  },
  {
   "cell_type": "code",
   "execution_count": 13,
   "id": "196094cf",
   "metadata": {
    "scrolled": true
   },
   "outputs": [
    {
     "ename": "TypeError",
     "evalue": "'<' not supported between instances of 'int' and 'str'",
     "output_type": "error",
     "traceback": [
      "\u001b[1;31m---------------------------------------------------------------------------\u001b[0m",
      "\u001b[1;31mTypeError\u001b[0m                                 Traceback (most recent call last)",
      "\u001b[1;32m~\\AppData\\Local\\Temp/ipykernel_9836/4034179799.py\u001b[0m in \u001b[0;36m<module>\u001b[1;34m\u001b[0m\n\u001b[1;32m----> 1\u001b[1;33m \u001b[1;36m123\u001b[0m \u001b[1;33m<\u001b[0m \u001b[1;34m\"Ved\"\u001b[0m\u001b[1;33m\u001b[0m\u001b[1;33m\u001b[0m\u001b[0m\n\u001b[0m",
      "\u001b[1;31mTypeError\u001b[0m: '<' not supported between instances of 'int' and 'str'"
     ]
    }
   ],
   "source": [
    "123 < \"Ved\""
   ]
  },
  {
   "cell_type": "code",
   "execution_count": 14,
   "id": "6a08a767",
   "metadata": {},
   "outputs": [
    {
     "data": {
      "text/plain": [
       "False"
      ]
     },
     "execution_count": 14,
     "metadata": {},
     "output_type": "execute_result"
    }
   ],
   "source": [
    "\"John\" > \"John\""
   ]
  },
  {
   "cell_type": "code",
   "execution_count": 15,
   "id": "465187d4",
   "metadata": {},
   "outputs": [
    {
     "data": {
      "text/plain": [
       "True"
      ]
     },
     "execution_count": 15,
     "metadata": {},
     "output_type": "execute_result"
    }
   ],
   "source": [
    "23 > 19"
   ]
  },
  {
   "cell_type": "code",
   "execution_count": 16,
   "id": "a9163c5f",
   "metadata": {},
   "outputs": [
    {
     "data": {
      "text/plain": [
       "True"
      ]
     },
     "execution_count": 16,
     "metadata": {},
     "output_type": "execute_result"
    }
   ],
   "source": [
    "23 >= 19"
   ]
  },
  {
   "cell_type": "code",
   "execution_count": 19,
   "id": "e8d3a1cf",
   "metadata": {},
   "outputs": [
    {
     "data": {
      "text/plain": [
       "False"
      ]
     },
     "execution_count": 19,
     "metadata": {},
     "output_type": "execute_result"
    }
   ],
   "source": [
    "123>=1234"
   ]
  },
  {
   "cell_type": "code",
   "execution_count": 20,
   "id": "d44fe3cd",
   "metadata": {},
   "outputs": [
    {
     "data": {
      "text/plain": [
       "False"
      ]
     },
     "execution_count": 20,
     "metadata": {},
     "output_type": "execute_result"
    }
   ],
   "source": [
    "\"John\" >= \"zebra\""
   ]
  },
  {
   "cell_type": "code",
   "execution_count": 21,
   "id": "b2d27e61",
   "metadata": {},
   "outputs": [
    {
     "data": {
      "text/plain": [
       "True"
      ]
     },
     "execution_count": 21,
     "metadata": {},
     "output_type": "execute_result"
    }
   ],
   "source": [
    "\"John\" <= \"zebra\""
   ]
  },
  {
   "cell_type": "code",
   "execution_count": 22,
   "id": "6659be7f",
   "metadata": {},
   "outputs": [
    {
     "data": {
      "text/plain": [
       "True"
      ]
     },
     "execution_count": 22,
     "metadata": {},
     "output_type": "execute_result"
    }
   ],
   "source": [
    "3 <= 19"
   ]
  },
  {
   "cell_type": "code",
   "execution_count": 23,
   "id": "36cf8a93",
   "metadata": {},
   "outputs": [
    {
     "data": {
      "text/plain": [
       "False"
      ]
     },
     "execution_count": 23,
     "metadata": {},
     "output_type": "execute_result"
    }
   ],
   "source": [
    "123 <= 12"
   ]
  },
  {
   "cell_type": "code",
   "execution_count": 24,
   "id": "32d7a8f1",
   "metadata": {},
   "outputs": [
    {
     "data": {
      "text/plain": [
       "False"
      ]
     },
     "execution_count": 24,
     "metadata": {},
     "output_type": "execute_result"
    }
   ],
   "source": [
    "\"John\" <= \"zebra\" and 123 <= 12"
   ]
  },
  {
   "cell_type": "code",
   "execution_count": 25,
   "id": "8a37412a",
   "metadata": {},
   "outputs": [
    {
     "data": {
      "text/plain": [
       "True"
      ]
     },
     "execution_count": 25,
     "metadata": {},
     "output_type": "execute_result"
    }
   ],
   "source": [
    "23 >= 19 and 123<1234"
   ]
  },
  {
   "cell_type": "code",
   "execution_count": 26,
   "id": "f67dedb1",
   "metadata": {},
   "outputs": [
    {
     "data": {
      "text/plain": [
       "True"
      ]
     },
     "execution_count": 26,
     "metadata": {},
     "output_type": "execute_result"
    }
   ],
   "source": [
    "\"John\" <= \"zebra\" or 123 <= 12"
   ]
  },
  {
   "cell_type": "code",
   "execution_count": 27,
   "id": "8545d9fc",
   "metadata": {},
   "outputs": [
    {
     "data": {
      "text/plain": [
       "True"
      ]
     },
     "execution_count": 27,
     "metadata": {},
     "output_type": "execute_result"
    }
   ],
   "source": [
    "23 >= 19 or 123<1234"
   ]
  },
  {
   "cell_type": "code",
   "execution_count": 28,
   "id": "f3aafe94",
   "metadata": {},
   "outputs": [
    {
     "data": {
      "text/plain": [
       "False"
      ]
     },
     "execution_count": 28,
     "metadata": {},
     "output_type": "execute_result"
    }
   ],
   "source": [
    "123 <= 12 or 123>=1234"
   ]
  },
  {
   "cell_type": "code",
   "execution_count": 29,
   "id": "49d37b1b",
   "metadata": {},
   "outputs": [
    {
     "data": {
      "text/plain": [
       "False"
      ]
     },
     "execution_count": 29,
     "metadata": {},
     "output_type": "execute_result"
    }
   ],
   "source": [
    " not \"John\" <= \"zebra\""
   ]
  },
  {
   "cell_type": "code",
   "execution_count": 31,
   "id": "ef10d32f",
   "metadata": {},
   "outputs": [
    {
     "data": {
      "text/plain": [
       "True"
      ]
     },
     "execution_count": 31,
     "metadata": {},
     "output_type": "execute_result"
    }
   ],
   "source": [
    "not 1+2 > 1+2"
   ]
  },
  {
   "cell_type": "code",
   "execution_count": null,
   "id": "1d665af3",
   "metadata": {},
   "outputs": [],
   "source": []
  }
 ],
 "metadata": {
  "kernelspec": {
   "display_name": "Python 3 (ipykernel)",
   "language": "python",
   "name": "python3"
  },
  "language_info": {
   "codemirror_mode": {
    "name": "ipython",
    "version": 3
   },
   "file_extension": ".py",
   "mimetype": "text/x-python",
   "name": "python",
   "nbconvert_exporter": "python",
   "pygments_lexer": "ipython3",
   "version": "3.9.7"
  }
 },
 "nbformat": 4,
 "nbformat_minor": 5
}
