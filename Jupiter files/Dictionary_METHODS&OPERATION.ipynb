{
 "cells": [
  {
   "cell_type": "code",
   "execution_count": 1,
   "id": "f5ae7988",
   "metadata": {},
   "outputs": [],
   "source": [
    "Dict_1 = {\"Name\":\"Vivan\",\"Surname\":\"Pathak\",\"Age\":11}"
   ]
  },
  {
   "cell_type": "code",
   "execution_count": 2,
   "id": "c3ad46ab",
   "metadata": {},
   "outputs": [
    {
     "data": {
      "text/plain": [
       "{'Name': 'Vivan', 'Surname': 'Pathak', 'Age': 11}"
      ]
     },
     "execution_count": 2,
     "metadata": {},
     "output_type": "execute_result"
    }
   ],
   "source": [
    "Dict_1"
   ]
  },
  {
   "cell_type": "code",
   "execution_count": 3,
   "id": "cdeb2834",
   "metadata": {},
   "outputs": [],
   "source": [
    "Dict_2 = {\"Zero\":0,\"One\":1,\"Two\":2,\"Three\":3}"
   ]
  },
  {
   "cell_type": "code",
   "execution_count": 4,
   "id": "40519380",
   "metadata": {},
   "outputs": [
    {
     "data": {
      "text/plain": [
       "{'Zero': 0, 'One': 1, 'Two': 2, 'Three': 3}"
      ]
     },
     "execution_count": 4,
     "metadata": {},
     "output_type": "execute_result"
    }
   ],
   "source": [
    "Dict_2"
   ]
  },
  {
   "cell_type": "code",
   "execution_count": 5,
   "id": "4c9525a9",
   "metadata": {},
   "outputs": [],
   "source": [
    "Dict_3 = {\"Year\":2021,\"Month\":\"January\",\"Month\":\"November\",\"Date\":\"2nd\"}"
   ]
  },
  {
   "cell_type": "code",
   "execution_count": 6,
   "id": "d88f0cbb",
   "metadata": {},
   "outputs": [
    {
     "data": {
      "text/plain": [
       "{'Year': 2021, 'Month': 'November', 'Date': '2nd'}"
      ]
     },
     "execution_count": 6,
     "metadata": {},
     "output_type": "execute_result"
    }
   ],
   "source": [
    "Dict_3"
   ]
  },
  {
   "cell_type": "code",
   "execution_count": 7,
   "id": "10c0eb54",
   "metadata": {},
   "outputs": [
    {
     "data": {
      "text/plain": [
       "{'Name': 'Vivan', 'Surname': 'Pathak', 'Age': 11}"
      ]
     },
     "execution_count": 7,
     "metadata": {},
     "output_type": "execute_result"
    }
   ],
   "source": [
    "Dict_1"
   ]
  },
  {
   "cell_type": "code",
   "execution_count": 8,
   "id": "c3be400a",
   "metadata": {},
   "outputs": [
    {
     "data": {
      "text/plain": [
       "'Vivan'"
      ]
     },
     "execution_count": 8,
     "metadata": {},
     "output_type": "execute_result"
    }
   ],
   "source": [
    "Dict_1[\"Name\"]"
   ]
  },
  {
   "cell_type": "code",
   "execution_count": 9,
   "id": "1ac2bd1d",
   "metadata": {},
   "outputs": [
    {
     "data": {
      "text/plain": [
       "11"
      ]
     },
     "execution_count": 9,
     "metadata": {},
     "output_type": "execute_result"
    }
   ],
   "source": [
    "Dict_1[\"Age\"]"
   ]
  },
  {
   "cell_type": "code",
   "execution_count": 10,
   "id": "a6c38d17",
   "metadata": {},
   "outputs": [],
   "source": [
    "Dict_1[\"Gmail\"]=\"pathak.vivan1234@gmail.com\""
   ]
  },
  {
   "cell_type": "code",
   "execution_count": 11,
   "id": "a52d3bdc",
   "metadata": {},
   "outputs": [
    {
     "data": {
      "text/plain": [
       "{'Name': 'Vivan',\n",
       " 'Surname': 'Pathak',\n",
       " 'Age': 11,\n",
       " 'Gmail': 'pathak.vivan1234@gmail.com'}"
      ]
     },
     "execution_count": 11,
     "metadata": {},
     "output_type": "execute_result"
    }
   ],
   "source": [
    "Dict_1"
   ]
  },
  {
   "cell_type": "code",
   "execution_count": 12,
   "id": "6165c7cd",
   "metadata": {},
   "outputs": [],
   "source": [
    "Dict_1[\"Gmail\"]= \"pathak.vivan12345@gmail.com\""
   ]
  },
  {
   "cell_type": "code",
   "execution_count": 13,
   "id": "ba7ef706",
   "metadata": {},
   "outputs": [
    {
     "data": {
      "text/plain": [
       "{'Name': 'Vivan',\n",
       " 'Surname': 'Pathak',\n",
       " 'Age': 11,\n",
       " 'Gmail': 'pathak.vivan12345@gmail.com'}"
      ]
     },
     "execution_count": 13,
     "metadata": {},
     "output_type": "execute_result"
    }
   ],
   "source": [
    "Dict_1"
   ]
  },
  {
   "cell_type": "code",
   "execution_count": 14,
   "id": "fc03b65b",
   "metadata": {},
   "outputs": [],
   "source": [
    "del Dict_1[\"Gmail\"]"
   ]
  },
  {
   "cell_type": "code",
   "execution_count": 15,
   "id": "8420e64d",
   "metadata": {},
   "outputs": [
    {
     "data": {
      "text/plain": [
       "{'Name': 'Vivan', 'Surname': 'Pathak', 'Age': 11}"
      ]
     },
     "execution_count": 15,
     "metadata": {},
     "output_type": "execute_result"
    }
   ],
   "source": [
    "Dict_1"
   ]
  },
  {
   "cell_type": "code",
   "execution_count": 16,
   "id": "953506ca",
   "metadata": {},
   "outputs": [],
   "source": [
    "Dict_22 =  Dict_2.copy()"
   ]
  },
  {
   "cell_type": "code",
   "execution_count": 17,
   "id": "2163a3e1",
   "metadata": {},
   "outputs": [
    {
     "data": {
      "text/plain": [
       "{'Zero': 0, 'One': 1, 'Two': 2, 'Three': 3}"
      ]
     },
     "execution_count": 17,
     "metadata": {},
     "output_type": "execute_result"
    }
   ],
   "source": [
    "Dict_22"
   ]
  },
  {
   "cell_type": "code",
   "execution_count": 18,
   "id": "80e23b12",
   "metadata": {},
   "outputs": [],
   "source": [
    "Dict_22.clear()"
   ]
  },
  {
   "cell_type": "code",
   "execution_count": 19,
   "id": "55f7753f",
   "metadata": {},
   "outputs": [
    {
     "data": {
      "text/plain": [
       "{}"
      ]
     },
     "execution_count": 19,
     "metadata": {},
     "output_type": "execute_result"
    }
   ],
   "source": [
    "Dict_22"
   ]
  },
  {
   "cell_type": "code",
   "execution_count": 20,
   "id": "c04ac1ad",
   "metadata": {},
   "outputs": [
    {
     "data": {
      "text/plain": [
       "dict_items([('Name', 'Vivan'), ('Surname', 'Pathak'), ('Age', 11)])"
      ]
     },
     "execution_count": 20,
     "metadata": {},
     "output_type": "execute_result"
    }
   ],
   "source": [
    "Dict_1.items()"
   ]
  },
  {
   "cell_type": "code",
   "execution_count": 21,
   "id": "10c34c71",
   "metadata": {},
   "outputs": [
    {
     "data": {
      "text/plain": [
       "dict_keys(['Name', 'Surname', 'Age'])"
      ]
     },
     "execution_count": 21,
     "metadata": {},
     "output_type": "execute_result"
    }
   ],
   "source": [
    "Dict_1.keys()"
   ]
  },
  {
   "cell_type": "code",
   "execution_count": 22,
   "id": "eaaa4cc7",
   "metadata": {},
   "outputs": [],
   "source": [
    "Dict_222 = {\"Four\":4,\"Five\":5,\"Six\":6}"
   ]
  },
  {
   "cell_type": "code",
   "execution_count": 23,
   "id": "9ec33b7e",
   "metadata": {},
   "outputs": [],
   "source": [
    "Dict_2.update(Dict_222)"
   ]
  },
  {
   "cell_type": "code",
   "execution_count": 24,
   "id": "f81fe7cb",
   "metadata": {},
   "outputs": [
    {
     "data": {
      "text/plain": [
       "{'Zero': 0, 'One': 1, 'Two': 2, 'Three': 3, 'Four': 4, 'Five': 5, 'Six': 6}"
      ]
     },
     "execution_count": 24,
     "metadata": {},
     "output_type": "execute_result"
    }
   ],
   "source": [
    "Dict_2"
   ]
  },
  {
   "cell_type": "code",
   "execution_count": 25,
   "id": "f540b29e",
   "metadata": {},
   "outputs": [
    {
     "data": {
      "text/plain": [
       "dict_values(['Vivan', 'Pathak', 11])"
      ]
     },
     "execution_count": 25,
     "metadata": {},
     "output_type": "execute_result"
    }
   ],
   "source": [
    "Dict_1.values()"
   ]
  },
  {
   "cell_type": "code",
   "execution_count": 26,
   "id": "04586b18",
   "metadata": {},
   "outputs": [],
   "source": [
    "Alphabet = \"ABCDEFGHIJKLMNOPQRSTUVWXYZ\"\n",
    "Alphabet = list(Alphabet)"
   ]
  },
  {
   "cell_type": "code",
   "execution_count": 27,
   "id": "ade8e0bf",
   "metadata": {},
   "outputs": [
    {
     "data": {
      "text/plain": [
       "['A',\n",
       " 'B',\n",
       " 'C',\n",
       " 'D',\n",
       " 'E',\n",
       " 'F',\n",
       " 'G',\n",
       " 'H',\n",
       " 'I',\n",
       " 'J',\n",
       " 'K',\n",
       " 'L',\n",
       " 'M',\n",
       " 'N',\n",
       " 'O',\n",
       " 'P',\n",
       " 'Q',\n",
       " 'R',\n",
       " 'S',\n",
       " 'T',\n",
       " 'U',\n",
       " 'V',\n",
       " 'W',\n",
       " 'X',\n",
       " 'Y',\n",
       " 'Z']"
      ]
     },
     "execution_count": 27,
     "metadata": {},
     "output_type": "execute_result"
    }
   ],
   "source": [
    "Alphabet\n"
   ]
  },
  {
   "cell_type": "code",
   "execution_count": 28,
   "id": "c49e7f52",
   "metadata": {},
   "outputs": [
    {
     "data": {
      "text/plain": [
       "{'A': 0,\n",
       " 'B': 1,\n",
       " 'C': 2,\n",
       " 'D': 3,\n",
       " 'E': 4,\n",
       " 'F': 5,\n",
       " 'G': 6,\n",
       " 'H': 7,\n",
       " 'I': 8,\n",
       " 'J': 9,\n",
       " 'K': 10,\n",
       " 'L': 11,\n",
       " 'M': 12,\n",
       " 'N': 13,\n",
       " 'O': 14,\n",
       " 'P': 15,\n",
       " 'Q': 16,\n",
       " 'R': 17,\n",
       " 'S': 18,\n",
       " 'T': 19,\n",
       " 'U': 20,\n",
       " 'V': 21,\n",
       " 'W': 22,\n",
       " 'X': 23,\n",
       " 'Y': 24,\n",
       " 'Z': 25}"
      ]
     },
     "execution_count": 28,
     "metadata": {},
     "output_type": "execute_result"
    }
   ],
   "source": [
    "Dict_13 = {}\n",
    "for i in Alphabet:\n",
    "    Dict_13[i] = Alphabet.index(i)\n",
    "Dict_13    "
   ]
  },
  {
   "cell_type": "code",
   "execution_count": null,
   "id": "14cc404d",
   "metadata": {},
   "outputs": [],
   "source": []
  }
 ],
 "metadata": {
  "kernelspec": {
   "display_name": "Python 3 (ipykernel)",
   "language": "python",
   "name": "python3"
  },
  "language_info": {
   "codemirror_mode": {
    "name": "ipython",
    "version": 3
   },
   "file_extension": ".py",
   "mimetype": "text/x-python",
   "name": "python",
   "nbconvert_exporter": "python",
   "pygments_lexer": "ipython3",
   "version": "3.9.7"
  }
 },
 "nbformat": 4,
 "nbformat_minor": 5
}
