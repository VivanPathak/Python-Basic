{
 "cells": [
  {
   "cell_type": "code",
   "execution_count": 1,
   "id": "a61bd2a5",
   "metadata": {},
   "outputs": [
    {
     "data": {
      "text/plain": [
       "<_io.TextIOWrapper name='trial.txt' mode='w' encoding='cp1252'>"
      ]
     },
     "execution_count": 1,
     "metadata": {},
     "output_type": "execute_result"
    }
   ],
   "source": [
    "open(\"trial.txt\",\"w\")"
   ]
  },
  {
   "cell_type": "code",
   "execution_count": 2,
   "id": "2ba8ba8a",
   "metadata": {},
   "outputs": [],
   "source": [
    "File = open(\"trial.txt\",\"w\")"
   ]
  },
  {
   "cell_type": "code",
   "execution_count": 3,
   "id": "7c4e486b",
   "metadata": {},
   "outputs": [],
   "source": [
    "File  = open(\"trial.txt\",\"a\")\n",
    "File.write(\"               About  Vivan                    \"\n",
    "           \"\\nMother : Vivan is A Smart Boy\"\n",
    "          \"\\nAunt : Vivan lives in Bhopal You can meet him whenevr you want.\"\n",
    "          \"\\nMother :India is the country where Vivan lives.\"\n",
    "          \"\\nAunt :He Loves To Play Cricket And Play Football. \"\n",
    "           \"\\nMother :Golgappa is the favourite dish for him he can eat it whenever you want. \"\n",
    "           \"\\nAunt :he got  99.5 % out 100% in His exams.. \"\n",
    "           \"\\nMother :He won a medal in a cricket tournament.\")\n",
    "File.close()"
   ]
  },
  {
   "cell_type": "code",
   "execution_count": 4,
   "id": "f0d1b385",
   "metadata": {},
   "outputs": [],
   "source": [
    "File = open(\"trial.txt\",\"r\")\n",
    "File.close()"
   ]
  },
  {
   "cell_type": "code",
   "execution_count": 5,
   "id": "91643392",
   "metadata": {},
   "outputs": [
    {
     "ename": "FileNotFoundError",
     "evalue": "[Errno 2] No such file or directory: 'retrial.txt'",
     "output_type": "error",
     "traceback": [
      "\u001b[1;31m---------------------------------------------------------------------------\u001b[0m",
      "\u001b[1;31mFileNotFoundError\u001b[0m                         Traceback (most recent call last)",
      "\u001b[1;32m~\\AppData\\Local\\Temp/ipykernel_9772/2224379850.py\u001b[0m in \u001b[0;36m<module>\u001b[1;34m\u001b[0m\n\u001b[1;32m----> 1\u001b[1;33m \u001b[0mFile\u001b[0m \u001b[1;33m=\u001b[0m \u001b[0mopen\u001b[0m\u001b[1;33m(\u001b[0m\u001b[1;34m\"retrial.txt\"\u001b[0m\u001b[1;33m,\u001b[0m\u001b[1;34m\"r\"\u001b[0m\u001b[1;33m)\u001b[0m\u001b[1;33m\u001b[0m\u001b[1;33m\u001b[0m\u001b[0m\n\u001b[0m\u001b[0;32m      2\u001b[0m \u001b[0mFile\u001b[0m\u001b[1;33m.\u001b[0m\u001b[0mclose\u001b[0m\u001b[1;33m(\u001b[0m\u001b[1;33m)\u001b[0m\u001b[1;33m\u001b[0m\u001b[1;33m\u001b[0m\u001b[0m\n",
      "\u001b[1;31mFileNotFoundError\u001b[0m: [Errno 2] No such file or directory: 'retrial.txt'"
     ]
    }
   ],
   "source": [
    "File = open(\"retrial.txt\",\"r\")\n",
    "File.close()"
   ]
  },
  {
   "cell_type": "code",
   "execution_count": 6,
   "id": "e8f57fbf",
   "metadata": {},
   "outputs": [
    {
     "name": "stdout",
     "output_type": "stream",
     "text": [
      "               About  Vivan                    \n",
      "Mother : Vivan is A Smart Boy\n",
      "Aunt : Vivan lives in Bhopal You can meet him whenevr you want.\n",
      "Mother :India is the country where Vivan lives.\n",
      "Aunt :He Loves To Play Cricket And Play Football. \n",
      "Mother :Golgappa is the favourite dish for him he can eat it whenever you want. \n",
      "Aunt :he got  99.5 % out 100% in His exams.. \n",
      "Mother :He won a medal in a cricket tournament.\n"
     ]
    }
   ],
   "source": [
    "File = open(\"trial.txt\",\"r\")\n",
    "print(File.read())\n",
    "File.close()"
   ]
  },
  {
   "cell_type": "code",
   "execution_count": 7,
   "id": "0d120c13",
   "metadata": {},
   "outputs": [
    {
     "name": "stdout",
     "output_type": "stream",
     "text": [
      "               About  Vivan                    \n",
      "Mother : Vivan is A Smart Boy\n",
      "Aunt : Vivan lives in Bhopal You can meet him whenevr you want.\n",
      "Mother :India is the country where Vivan lives.\n",
      "Aunt :He Loves To Play Cricket And Play Football. \n",
      "Mother :Golgappa is the favourite dish for him he can eat it whenever you want. \n",
      "Aunt :he got  99.5 % out 100% in His exams.. \n",
      "Mother :He won a medal in a cricket tournament.\n"
     ]
    }
   ],
   "source": [
    "File = open(\"trial.txt\",\"r\")\n",
    "print(File.read())\n"
   ]
  },
  {
   "cell_type": "code",
   "execution_count": 8,
   "id": "8e80f193",
   "metadata": {},
   "outputs": [
    {
     "name": "stdout",
     "output_type": "stream",
     "text": [
      "\n"
     ]
    }
   ],
   "source": [
    "print(File.read())\n",
    "File.close()"
   ]
  },
  {
   "cell_type": "code",
   "execution_count": 9,
   "id": "d0bf5cc7",
   "metadata": {},
   "outputs": [
    {
     "name": "stdout",
     "output_type": "stream",
     "text": [
      "               About  Vivan                    \n",
      "\n"
     ]
    }
   ],
   "source": [
    "File = open(\"trial.txt\",\"r\")\n",
    "print(File.readline())"
   ]
  },
  {
   "cell_type": "code",
   "execution_count": 10,
   "id": "98d9858b",
   "metadata": {},
   "outputs": [
    {
     "name": "stdout",
     "output_type": "stream",
     "text": [
      "Mother : Vivan is A Smart Boy\n",
      "\n"
     ]
    }
   ],
   "source": [
    "print(File.readline())\n"
   ]
  },
  {
   "cell_type": "code",
   "execution_count": 11,
   "id": "766930d6",
   "metadata": {},
   "outputs": [
    {
     "name": "stdout",
     "output_type": "stream",
     "text": [
      "Aunt : Vivan lives in Bhopal You can meet him whenevr you want.\n",
      "\n"
     ]
    }
   ],
   "source": [
    "print(File.readline())"
   ]
  },
  {
   "cell_type": "code",
   "execution_count": 12,
   "id": "46bcce93",
   "metadata": {},
   "outputs": [
    {
     "data": {
      "text/plain": [
       "['Mother :India is the country where Vivan lives.\\n',\n",
       " 'Aunt :He Loves To Play Cricket And Play Football. \\n',\n",
       " 'Mother :Golgappa is the favourite dish for him he can eat it whenever you want. \\n',\n",
       " 'Aunt :he got  99.5 % out 100% in His exams.. \\n',\n",
       " 'Mother :He won a medal in a cricket tournament.']"
      ]
     },
     "execution_count": 12,
     "metadata": {},
     "output_type": "execute_result"
    }
   ],
   "source": [
    "File.readlines()"
   ]
  },
  {
   "cell_type": "code",
   "execution_count": 13,
   "id": "62502f0f",
   "metadata": {},
   "outputs": [],
   "source": [
    "File.close()"
   ]
  },
  {
   "cell_type": "code",
   "execution_count": 15,
   "id": "ea1afab0",
   "metadata": {},
   "outputs": [
    {
     "name": "stdout",
     "output_type": "stream",
     "text": [
      "               About  Vivan                    \n",
      "\n",
      "Mother : Vivan is A Smart Boy\n",
      "\n",
      "Aunt : Vivan lives in Bhopal You can meet him whenevr you want.\n",
      "\n",
      "Mother :India is the country where Vivan lives.\n",
      "\n",
      "Aunt :He Loves To Play Cricket And Play Football. \n",
      "\n",
      "Mother :Golgappa is the favourite dish for him he can eat it whenever you want. \n",
      "\n",
      "Aunt :he got  99.5 % out 100% in His exams.. \n",
      "\n",
      "Mother :He won a medal in a cricket tournament.\n"
     ]
    }
   ],
   "source": [
    "File = open(\"trial.txt\",\"r\")\n",
    "for i in File:\n",
    "    print(i)\n",
    "File.close()    "
   ]
  },
  {
   "cell_type": "code",
   "execution_count": 16,
   "id": "c7dbff90",
   "metadata": {},
   "outputs": [
    {
     "name": "stdout",
     "output_type": "stream",
     "text": [
      "               About  Vivan                    \n",
      "\n",
      "Mother : Vivan is A Smart Boy\n",
      "\n",
      "Aunt : Vivan lives in Bhopal You can meet him whenevr you want.\n",
      "\n",
      "Mother :India is the country where Vivan lives.\n",
      "\n",
      "Aunt :He Loves To Play Cricket And Play Football. \n",
      "\n",
      "Mother :Golgappa is the favourite dish for him he can eat it whenever you want. \n",
      "\n",
      "Aunt :he got  99.5 % out 100% in His exams.. \n",
      "\n",
      "Mother :He won a medal in a cricket tournament.\n"
     ]
    }
   ],
   "source": [
    "with open (\"trial.txt\",\"r\") as File:\n",
    "    for i in File:\n",
    "        print(i)"
   ]
  },
  {
   "cell_type": "code",
   "execution_count": 17,
   "id": "95c3ee51",
   "metadata": {},
   "outputs": [
    {
     "ename": "ValueError",
     "evalue": "I/O operation on closed file.",
     "output_type": "error",
     "traceback": [
      "\u001b[1;31m---------------------------------------------------------------------------\u001b[0m",
      "\u001b[1;31mValueError\u001b[0m                                Traceback (most recent call last)",
      "\u001b[1;32m~\\AppData\\Local\\Temp/ipykernel_9772/2397627147.py\u001b[0m in \u001b[0;36m<module>\u001b[1;34m\u001b[0m\n\u001b[1;32m----> 1\u001b[1;33m \u001b[0mFile\u001b[0m\u001b[1;33m.\u001b[0m\u001b[0mwrite\u001b[0m\u001b[1;33m(\u001b[0m\u001b[1;34m\"abcd\"\u001b[0m\u001b[1;33m)\u001b[0m\u001b[1;33m\u001b[0m\u001b[1;33m\u001b[0m\u001b[0m\n\u001b[0m",
      "\u001b[1;31mValueError\u001b[0m: I/O operation on closed file."
     ]
    }
   ],
   "source": [
    "File.write(\"abcd\")"
   ]
  },
  {
   "cell_type": "code",
   "execution_count": 19,
   "id": "a85cd811",
   "metadata": {},
   "outputs": [],
   "source": [
    "with open (\"trial.txt\",\"r+\") as File:\n",
    "    File.seek(20)\n",
    "    File.write(\" Vivan is A nice boy af \")"
   ]
  },
  {
   "cell_type": "code",
   "execution_count": 20,
   "id": "5ced7979",
   "metadata": {},
   "outputs": [
    {
     "name": "stdout",
     "output_type": "stream",
     "text": [
      "               About Vivan is A nice boy af    \n",
      "\n",
      "Mother : Vivan is A Smart Boy\n",
      "\n",
      "Aunt : Vivan lives in Bhopal You can meet him whenevr you want.\n",
      "\n",
      "Mother :India is the country where Vivan lives.\n",
      "\n",
      "Aunt :He Loves To Play Cricket And Play Football. \n",
      "\n",
      "Mother :Golgappa is the favourite dish for him he can eat it whenever you want. \n",
      "\n",
      "Aunt :he got  99.5 % out 100% in His exams.. \n",
      "\n",
      "Mother :He won a medal in a cricket tournament.\n"
     ]
    }
   ],
   "source": [
    "with open (\"trial.txt\",\"r\") as File:\n",
    "    for i in File:\n",
    "        print(i)"
   ]
  },
  {
   "cell_type": "code",
   "execution_count": 21,
   "id": "68a068b0",
   "metadata": {},
   "outputs": [
    {
     "name": "stdout",
     "output_type": "stream",
     "text": [
      "0\n"
     ]
    }
   ],
   "source": [
    "with open (\"trial.txt\",\"r+\") as File:\n",
    "    print(File.tell())"
   ]
  },
  {
   "cell_type": "code",
   "execution_count": 22,
   "id": "759e303e",
   "metadata": {},
   "outputs": [
    {
     "name": "stdout",
     "output_type": "stream",
     "text": [
      "12\n"
     ]
    }
   ],
   "source": [
    "with open (\"trial.txt\",\"r+\") as File:\n",
    "    File.seek(12)\n",
    "    print(File.tell())"
   ]
  },
  {
   "cell_type": "code",
   "execution_count": 25,
   "id": "cd3b3eb3",
   "metadata": {},
   "outputs": [
    {
     "name": "stdout",
     "output_type": "stream",
     "text": [
      "ou can meet him whenevr you want.\n",
      "Mother :India is the country where Vivan lives.\n",
      "Aunt :He Loves To Play Cricket\n",
      "224\n"
     ]
    }
   ],
   "source": [
    "with open(\"trial.txt\",\"r+\") as File:\n",
    "    File.seek(110)\n",
    "    Content= File.read(112)\n",
    "    print(Content)\n",
    "    print(File.tell())"
   ]
  },
  {
   "cell_type": "code",
   "execution_count": null,
   "id": "eced9f50",
   "metadata": {},
   "outputs": [],
   "source": []
  }
 ],
 "metadata": {
  "kernelspec": {
   "display_name": "Python 3 (ipykernel)",
   "language": "python",
   "name": "python3"
  },
  "language_info": {
   "codemirror_mode": {
    "name": "ipython",
    "version": 3
   },
   "file_extension": ".py",
   "mimetype": "text/x-python",
   "name": "python",
   "nbconvert_exporter": "python",
   "pygments_lexer": "ipython3",
   "version": "3.9.7"
  }
 },
 "nbformat": 4,
 "nbformat_minor": 5
}
